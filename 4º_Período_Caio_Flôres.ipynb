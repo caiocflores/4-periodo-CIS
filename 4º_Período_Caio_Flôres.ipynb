{
  "nbformat": 4,
  "nbformat_minor": 0,
  "metadata": {
    "colab": {
      "name": "4º Período - Caio Flôres.ipynb",
      "provenance": [],
      "collapsed_sections": [],
      "toc_visible": true
    },
    "kernelspec": {
      "name": "python3",
      "display_name": "Python 3"
    },
    "language_info": {
      "name": "python"
    }
  },
  "cells": [
    {
      "cell_type": "markdown",
      "source": [
        "# 4º Período ✅"
      ],
      "metadata": {
        "id": "GiP1JSJ25yAW"
      }
    },
    {
      "cell_type": "markdown",
      "source": [
        "# Tratamento de dados "
      ],
      "metadata": {
        "id": "4x_UXs6ZaxnL"
      }
    },
    {
      "cell_type": "code",
      "execution_count": null,
      "metadata": {
        "id": "0srlJ9CpVwO7",
        "colab": {
          "base_uri": "https://localhost:8080/"
        },
        "outputId": "a8eff301-5c01-46bf-ac9f-81a7ff114689"
      },
      "outputs": [
        {
          "output_type": "stream",
          "name": "stdout",
          "text": [
            "Populating the interactive namespace from numpy and matplotlib\n"
          ]
        }
      ],
      "source": [
        "import pandas as pd\n",
        "import numpy as np \n",
        "import matplotlib.pyplot as plt\n",
        "import seaborn as sns\n",
        "from sklearn.model_selection import train_test_split\n",
        "from sklearn.metrics import classification_report\n",
        "from sklearn.preprocessing import StandardScaler\n",
        "%pylab inline"
      ]
    },
    {
      "cell_type": "code",
      "source": [
        "import google.colab\n",
        "from google.colab import drive\n",
        "drive.mount('/content/drive')\n",
        "\n",
        "df = pd.read_csv(\"/content/drive/MyDrive/IEEE/creditcard.csv\")\n"
      ],
      "metadata": {
        "id": "gC9eVQzjWoEf",
        "colab": {
          "base_uri": "https://localhost:8080/"
        },
        "outputId": "7f4657e4-777c-49ad-a5ea-50a1aff5c7ac"
      },
      "execution_count": null,
      "outputs": [
        {
          "output_type": "stream",
          "name": "stdout",
          "text": [
            "Drive already mounted at /content/drive; to attempt to forcibly remount, call drive.mount(\"/content/drive\", force_remount=True).\n"
          ]
        }
      ]
    },
    {
      "cell_type": "code",
      "source": [
        "df.head()"
      ],
      "metadata": {
        "colab": {
          "base_uri": "https://localhost:8080/",
          "height": 270
        },
        "id": "y3uiCUDoX0eC",
        "outputId": "d0c6208c-8a58-4d85-a4fd-423615ac6629"
      },
      "execution_count": null,
      "outputs": [
        {
          "output_type": "execute_result",
          "data": {
            "text/html": [
              "\n",
              "  <div id=\"df-db08dbd9-76c8-4cd7-bc51-b47e4f68accd\">\n",
              "    <div class=\"colab-df-container\">\n",
              "      <div>\n",
              "<style scoped>\n",
              "    .dataframe tbody tr th:only-of-type {\n",
              "        vertical-align: middle;\n",
              "    }\n",
              "\n",
              "    .dataframe tbody tr th {\n",
              "        vertical-align: top;\n",
              "    }\n",
              "\n",
              "    .dataframe thead th {\n",
              "        text-align: right;\n",
              "    }\n",
              "</style>\n",
              "<table border=\"1\" class=\"dataframe\">\n",
              "  <thead>\n",
              "    <tr style=\"text-align: right;\">\n",
              "      <th></th>\n",
              "      <th>Time</th>\n",
              "      <th>V1</th>\n",
              "      <th>V2</th>\n",
              "      <th>V3</th>\n",
              "      <th>V4</th>\n",
              "      <th>V5</th>\n",
              "      <th>V6</th>\n",
              "      <th>V7</th>\n",
              "      <th>V8</th>\n",
              "      <th>V9</th>\n",
              "      <th>V10</th>\n",
              "      <th>V11</th>\n",
              "      <th>V12</th>\n",
              "      <th>V13</th>\n",
              "      <th>V14</th>\n",
              "      <th>V15</th>\n",
              "      <th>V16</th>\n",
              "      <th>V17</th>\n",
              "      <th>V18</th>\n",
              "      <th>V19</th>\n",
              "      <th>V20</th>\n",
              "      <th>V21</th>\n",
              "      <th>V22</th>\n",
              "      <th>V23</th>\n",
              "      <th>V24</th>\n",
              "      <th>V25</th>\n",
              "      <th>V26</th>\n",
              "      <th>V27</th>\n",
              "      <th>V28</th>\n",
              "      <th>Amount</th>\n",
              "      <th>Class</th>\n",
              "    </tr>\n",
              "  </thead>\n",
              "  <tbody>\n",
              "    <tr>\n",
              "      <th>0</th>\n",
              "      <td>0.0</td>\n",
              "      <td>-1.359807</td>\n",
              "      <td>-0.072781</td>\n",
              "      <td>2.536347</td>\n",
              "      <td>1.378155</td>\n",
              "      <td>-0.338321</td>\n",
              "      <td>0.462388</td>\n",
              "      <td>0.239599</td>\n",
              "      <td>0.098698</td>\n",
              "      <td>0.363787</td>\n",
              "      <td>0.090794</td>\n",
              "      <td>-0.551600</td>\n",
              "      <td>-0.617801</td>\n",
              "      <td>-0.991390</td>\n",
              "      <td>-0.311169</td>\n",
              "      <td>1.468177</td>\n",
              "      <td>-0.470401</td>\n",
              "      <td>0.207971</td>\n",
              "      <td>0.025791</td>\n",
              "      <td>0.403993</td>\n",
              "      <td>0.251412</td>\n",
              "      <td>-0.018307</td>\n",
              "      <td>0.277838</td>\n",
              "      <td>-0.110474</td>\n",
              "      <td>0.066928</td>\n",
              "      <td>0.128539</td>\n",
              "      <td>-0.189115</td>\n",
              "      <td>0.133558</td>\n",
              "      <td>-0.021053</td>\n",
              "      <td>149.62</td>\n",
              "      <td>0</td>\n",
              "    </tr>\n",
              "    <tr>\n",
              "      <th>1</th>\n",
              "      <td>0.0</td>\n",
              "      <td>1.191857</td>\n",
              "      <td>0.266151</td>\n",
              "      <td>0.166480</td>\n",
              "      <td>0.448154</td>\n",
              "      <td>0.060018</td>\n",
              "      <td>-0.082361</td>\n",
              "      <td>-0.078803</td>\n",
              "      <td>0.085102</td>\n",
              "      <td>-0.255425</td>\n",
              "      <td>-0.166974</td>\n",
              "      <td>1.612727</td>\n",
              "      <td>1.065235</td>\n",
              "      <td>0.489095</td>\n",
              "      <td>-0.143772</td>\n",
              "      <td>0.635558</td>\n",
              "      <td>0.463917</td>\n",
              "      <td>-0.114805</td>\n",
              "      <td>-0.183361</td>\n",
              "      <td>-0.145783</td>\n",
              "      <td>-0.069083</td>\n",
              "      <td>-0.225775</td>\n",
              "      <td>-0.638672</td>\n",
              "      <td>0.101288</td>\n",
              "      <td>-0.339846</td>\n",
              "      <td>0.167170</td>\n",
              "      <td>0.125895</td>\n",
              "      <td>-0.008983</td>\n",
              "      <td>0.014724</td>\n",
              "      <td>2.69</td>\n",
              "      <td>0</td>\n",
              "    </tr>\n",
              "    <tr>\n",
              "      <th>2</th>\n",
              "      <td>1.0</td>\n",
              "      <td>-1.358354</td>\n",
              "      <td>-1.340163</td>\n",
              "      <td>1.773209</td>\n",
              "      <td>0.379780</td>\n",
              "      <td>-0.503198</td>\n",
              "      <td>1.800499</td>\n",
              "      <td>0.791461</td>\n",
              "      <td>0.247676</td>\n",
              "      <td>-1.514654</td>\n",
              "      <td>0.207643</td>\n",
              "      <td>0.624501</td>\n",
              "      <td>0.066084</td>\n",
              "      <td>0.717293</td>\n",
              "      <td>-0.165946</td>\n",
              "      <td>2.345865</td>\n",
              "      <td>-2.890083</td>\n",
              "      <td>1.109969</td>\n",
              "      <td>-0.121359</td>\n",
              "      <td>-2.261857</td>\n",
              "      <td>0.524980</td>\n",
              "      <td>0.247998</td>\n",
              "      <td>0.771679</td>\n",
              "      <td>0.909412</td>\n",
              "      <td>-0.689281</td>\n",
              "      <td>-0.327642</td>\n",
              "      <td>-0.139097</td>\n",
              "      <td>-0.055353</td>\n",
              "      <td>-0.059752</td>\n",
              "      <td>378.66</td>\n",
              "      <td>0</td>\n",
              "    </tr>\n",
              "    <tr>\n",
              "      <th>3</th>\n",
              "      <td>1.0</td>\n",
              "      <td>-0.966272</td>\n",
              "      <td>-0.185226</td>\n",
              "      <td>1.792993</td>\n",
              "      <td>-0.863291</td>\n",
              "      <td>-0.010309</td>\n",
              "      <td>1.247203</td>\n",
              "      <td>0.237609</td>\n",
              "      <td>0.377436</td>\n",
              "      <td>-1.387024</td>\n",
              "      <td>-0.054952</td>\n",
              "      <td>-0.226487</td>\n",
              "      <td>0.178228</td>\n",
              "      <td>0.507757</td>\n",
              "      <td>-0.287924</td>\n",
              "      <td>-0.631418</td>\n",
              "      <td>-1.059647</td>\n",
              "      <td>-0.684093</td>\n",
              "      <td>1.965775</td>\n",
              "      <td>-1.232622</td>\n",
              "      <td>-0.208038</td>\n",
              "      <td>-0.108300</td>\n",
              "      <td>0.005274</td>\n",
              "      <td>-0.190321</td>\n",
              "      <td>-1.175575</td>\n",
              "      <td>0.647376</td>\n",
              "      <td>-0.221929</td>\n",
              "      <td>0.062723</td>\n",
              "      <td>0.061458</td>\n",
              "      <td>123.50</td>\n",
              "      <td>0</td>\n",
              "    </tr>\n",
              "    <tr>\n",
              "      <th>4</th>\n",
              "      <td>2.0</td>\n",
              "      <td>-1.158233</td>\n",
              "      <td>0.877737</td>\n",
              "      <td>1.548718</td>\n",
              "      <td>0.403034</td>\n",
              "      <td>-0.407193</td>\n",
              "      <td>0.095921</td>\n",
              "      <td>0.592941</td>\n",
              "      <td>-0.270533</td>\n",
              "      <td>0.817739</td>\n",
              "      <td>0.753074</td>\n",
              "      <td>-0.822843</td>\n",
              "      <td>0.538196</td>\n",
              "      <td>1.345852</td>\n",
              "      <td>-1.119670</td>\n",
              "      <td>0.175121</td>\n",
              "      <td>-0.451449</td>\n",
              "      <td>-0.237033</td>\n",
              "      <td>-0.038195</td>\n",
              "      <td>0.803487</td>\n",
              "      <td>0.408542</td>\n",
              "      <td>-0.009431</td>\n",
              "      <td>0.798278</td>\n",
              "      <td>-0.137458</td>\n",
              "      <td>0.141267</td>\n",
              "      <td>-0.206010</td>\n",
              "      <td>0.502292</td>\n",
              "      <td>0.219422</td>\n",
              "      <td>0.215153</td>\n",
              "      <td>69.99</td>\n",
              "      <td>0</td>\n",
              "    </tr>\n",
              "  </tbody>\n",
              "</table>\n",
              "</div>\n",
              "      <button class=\"colab-df-convert\" onclick=\"convertToInteractive('df-db08dbd9-76c8-4cd7-bc51-b47e4f68accd')\"\n",
              "              title=\"Convert this dataframe to an interactive table.\"\n",
              "              style=\"display:none;\">\n",
              "        \n",
              "  <svg xmlns=\"http://www.w3.org/2000/svg\" height=\"24px\"viewBox=\"0 0 24 24\"\n",
              "       width=\"24px\">\n",
              "    <path d=\"M0 0h24v24H0V0z\" fill=\"none\"/>\n",
              "    <path d=\"M18.56 5.44l.94 2.06.94-2.06 2.06-.94-2.06-.94-.94-2.06-.94 2.06-2.06.94zm-11 1L8.5 8.5l.94-2.06 2.06-.94-2.06-.94L8.5 2.5l-.94 2.06-2.06.94zm10 10l.94 2.06.94-2.06 2.06-.94-2.06-.94-.94-2.06-.94 2.06-2.06.94z\"/><path d=\"M17.41 7.96l-1.37-1.37c-.4-.4-.92-.59-1.43-.59-.52 0-1.04.2-1.43.59L10.3 9.45l-7.72 7.72c-.78.78-.78 2.05 0 2.83L4 21.41c.39.39.9.59 1.41.59.51 0 1.02-.2 1.41-.59l7.78-7.78 2.81-2.81c.8-.78.8-2.07 0-2.86zM5.41 20L4 18.59l7.72-7.72 1.47 1.35L5.41 20z\"/>\n",
              "  </svg>\n",
              "      </button>\n",
              "      \n",
              "  <style>\n",
              "    .colab-df-container {\n",
              "      display:flex;\n",
              "      flex-wrap:wrap;\n",
              "      gap: 12px;\n",
              "    }\n",
              "\n",
              "    .colab-df-convert {\n",
              "      background-color: #E8F0FE;\n",
              "      border: none;\n",
              "      border-radius: 50%;\n",
              "      cursor: pointer;\n",
              "      display: none;\n",
              "      fill: #1967D2;\n",
              "      height: 32px;\n",
              "      padding: 0 0 0 0;\n",
              "      width: 32px;\n",
              "    }\n",
              "\n",
              "    .colab-df-convert:hover {\n",
              "      background-color: #E2EBFA;\n",
              "      box-shadow: 0px 1px 2px rgba(60, 64, 67, 0.3), 0px 1px 3px 1px rgba(60, 64, 67, 0.15);\n",
              "      fill: #174EA6;\n",
              "    }\n",
              "\n",
              "    [theme=dark] .colab-df-convert {\n",
              "      background-color: #3B4455;\n",
              "      fill: #D2E3FC;\n",
              "    }\n",
              "\n",
              "    [theme=dark] .colab-df-convert:hover {\n",
              "      background-color: #434B5C;\n",
              "      box-shadow: 0px 1px 3px 1px rgba(0, 0, 0, 0.15);\n",
              "      filter: drop-shadow(0px 1px 2px rgba(0, 0, 0, 0.3));\n",
              "      fill: #FFFFFF;\n",
              "    }\n",
              "  </style>\n",
              "\n",
              "      <script>\n",
              "        const buttonEl =\n",
              "          document.querySelector('#df-db08dbd9-76c8-4cd7-bc51-b47e4f68accd button.colab-df-convert');\n",
              "        buttonEl.style.display =\n",
              "          google.colab.kernel.accessAllowed ? 'block' : 'none';\n",
              "\n",
              "        async function convertToInteractive(key) {\n",
              "          const element = document.querySelector('#df-db08dbd9-76c8-4cd7-bc51-b47e4f68accd');\n",
              "          const dataTable =\n",
              "            await google.colab.kernel.invokeFunction('convertToInteractive',\n",
              "                                                     [key], {});\n",
              "          if (!dataTable) return;\n",
              "\n",
              "          const docLinkHtml = 'Like what you see? Visit the ' +\n",
              "            '<a target=\"_blank\" href=https://colab.research.google.com/notebooks/data_table.ipynb>data table notebook</a>'\n",
              "            + ' to learn more about interactive tables.';\n",
              "          element.innerHTML = '';\n",
              "          dataTable['output_type'] = 'display_data';\n",
              "          await google.colab.output.renderOutput(dataTable, element);\n",
              "          const docLink = document.createElement('div');\n",
              "          docLink.innerHTML = docLinkHtml;\n",
              "          element.appendChild(docLink);\n",
              "        }\n",
              "      </script>\n",
              "    </div>\n",
              "  </div>\n",
              "  "
            ],
            "text/plain": [
              "   Time        V1        V2        V3  ...       V27       V28  Amount  Class\n",
              "0   0.0 -1.359807 -0.072781  2.536347  ...  0.133558 -0.021053  149.62      0\n",
              "1   0.0  1.191857  0.266151  0.166480  ... -0.008983  0.014724    2.69      0\n",
              "2   1.0 -1.358354 -1.340163  1.773209  ... -0.055353 -0.059752  378.66      0\n",
              "3   1.0 -0.966272 -0.185226  1.792993  ...  0.062723  0.061458  123.50      0\n",
              "4   2.0 -1.158233  0.877737  1.548718  ...  0.219422  0.215153   69.99      0\n",
              "\n",
              "[5 rows x 31 columns]"
            ]
          },
          "metadata": {},
          "execution_count": 200
        }
      ]
    },
    {
      "cell_type": "code",
      "source": [
        "# coluna time não tem função, é apenas enumerativa para as entradas\n",
        "df = df.drop('Time', axis = 1)"
      ],
      "metadata": {
        "id": "ziDiO6mEX8sL"
      },
      "execution_count": null,
      "outputs": []
    },
    {
      "cell_type": "code",
      "source": [
        "df.info()"
      ],
      "metadata": {
        "colab": {
          "base_uri": "https://localhost:8080/"
        },
        "id": "uWmb0qSg5eas",
        "outputId": "1f40a5bd-7119-401b-ee56-b41e70fa3de3"
      },
      "execution_count": null,
      "outputs": [
        {
          "output_type": "stream",
          "name": "stdout",
          "text": [
            "<class 'pandas.core.frame.DataFrame'>\n",
            "RangeIndex: 284807 entries, 0 to 284806\n",
            "Data columns (total 30 columns):\n",
            " #   Column  Non-Null Count   Dtype  \n",
            "---  ------  --------------   -----  \n",
            " 0   V1      284807 non-null  float64\n",
            " 1   V2      284807 non-null  float64\n",
            " 2   V3      284807 non-null  float64\n",
            " 3   V4      284807 non-null  float64\n",
            " 4   V5      284807 non-null  float64\n",
            " 5   V6      284807 non-null  float64\n",
            " 6   V7      284807 non-null  float64\n",
            " 7   V8      284807 non-null  float64\n",
            " 8   V9      284807 non-null  float64\n",
            " 9   V10     284807 non-null  float64\n",
            " 10  V11     284807 non-null  float64\n",
            " 11  V12     284807 non-null  float64\n",
            " 12  V13     284807 non-null  float64\n",
            " 13  V14     284807 non-null  float64\n",
            " 14  V15     284807 non-null  float64\n",
            " 15  V16     284807 non-null  float64\n",
            " 16  V17     284807 non-null  float64\n",
            " 17  V18     284807 non-null  float64\n",
            " 18  V19     284807 non-null  float64\n",
            " 19  V20     284807 non-null  float64\n",
            " 20  V21     284807 non-null  float64\n",
            " 21  V22     284807 non-null  float64\n",
            " 22  V23     284807 non-null  float64\n",
            " 23  V24     284807 non-null  float64\n",
            " 24  V25     284807 non-null  float64\n",
            " 25  V26     284807 non-null  float64\n",
            " 26  V27     284807 non-null  float64\n",
            " 27  V28     284807 non-null  float64\n",
            " 28  Amount  284807 non-null  float64\n",
            " 29  Class   284807 non-null  int64  \n",
            "dtypes: float64(29), int64(1)\n",
            "memory usage: 65.2 MB\n"
          ]
        }
      ]
    },
    {
      "cell_type": "code",
      "source": [
        "# verificando se há valores faltantes\n",
        "df.isnull().sum()"
      ],
      "metadata": {
        "colab": {
          "base_uri": "https://localhost:8080/"
        },
        "id": "28ZByTyK5ljT",
        "outputId": "44cd95bd-0650-401d-fa1b-a5e591bb9409"
      },
      "execution_count": null,
      "outputs": [
        {
          "output_type": "execute_result",
          "data": {
            "text/plain": [
              "V1        0\n",
              "V2        0\n",
              "V3        0\n",
              "V4        0\n",
              "V5        0\n",
              "V6        0\n",
              "V7        0\n",
              "V8        0\n",
              "V9        0\n",
              "V10       0\n",
              "V11       0\n",
              "V12       0\n",
              "V13       0\n",
              "V14       0\n",
              "V15       0\n",
              "V16       0\n",
              "V17       0\n",
              "V18       0\n",
              "V19       0\n",
              "V20       0\n",
              "V21       0\n",
              "V22       0\n",
              "V23       0\n",
              "V24       0\n",
              "V25       0\n",
              "V26       0\n",
              "V27       0\n",
              "V28       0\n",
              "Amount    0\n",
              "Class     0\n",
              "dtype: int64"
            ]
          },
          "metadata": {},
          "execution_count": 204
        }
      ]
    },
    {
      "cell_type": "code",
      "source": [
        "# verificando valores únicos de output da label 'Class'\n",
        "df['Class'].value_counts()"
      ],
      "metadata": {
        "colab": {
          "base_uri": "https://localhost:8080/"
        },
        "id": "xjaQVflIxchf",
        "outputId": "57f2f7bd-210e-431d-8294-ce83e9ac87e9"
      },
      "execution_count": null,
      "outputs": [
        {
          "output_type": "execute_result",
          "data": {
            "text/plain": [
              "0    284315\n",
              "1       492\n",
              "Name: Class, dtype: int64"
            ]
          },
          "metadata": {},
          "execution_count": 205
        }
      ]
    },
    {
      "cell_type": "markdown",
      "source": [
        "* Como há muitos mais valores de 0 que 1, é possível que a análise fique viciada em prever 0. Deste modo, no decorer da análise, será necessário lidar com esse problema de overfitting decorrente de um número desbalanceado de amostras binárias."
      ],
      "metadata": {
        "id": "zV0NAbcdxwMA"
      }
    },
    {
      "cell_type": "code",
      "source": [
        "# separar label das features\n",
        "X = df.drop('Class', axis = 1)\n",
        "X = np.array(X)\n",
        "\n",
        "y = df[['Class', 'Amount']]\n",
        "y = y.drop('Amount', axis = 1)\n",
        "y = np.array(y)"
      ],
      "metadata": {
        "id": "pnNhrGgXfr0e"
      },
      "execution_count": null,
      "outputs": []
    },
    {
      "cell_type": "code",
      "source": [
        "print(X.shape, y.shape)"
      ],
      "metadata": {
        "colab": {
          "base_uri": "https://localhost:8080/"
        },
        "id": "VmAvdXgMtDw4",
        "outputId": "05c33c50-41b0-4349-8c11-bada2e2e0a0b"
      },
      "execution_count": null,
      "outputs": [
        {
          "output_type": "stream",
          "name": "stdout",
          "text": [
            "(284807, 29) (284807, 1)\n"
          ]
        }
      ]
    },
    {
      "cell_type": "code",
      "source": [
        "# dividir dataset de treinamento e dataset de teste\n",
        "X_train, X_test, y_train, y_test = train_test_split(X, y, test_size = 0.20, random_state = 0)"
      ],
      "metadata": {
        "id": "fIGEKWEcghKY"
      },
      "execution_count": null,
      "outputs": []
    },
    {
      "cell_type": "code",
      "source": [
        "print(len(X), len(X_train), len(X_test))\n",
        "print(len(y), len(y_train), len(y_test))"
      ],
      "metadata": {
        "colab": {
          "base_uri": "https://localhost:8080/"
        },
        "outputId": "3daca715-8aba-45b2-ce30-052958d17ecd",
        "id": "LdXpOxvg-xDu"
      },
      "execution_count": null,
      "outputs": [
        {
          "output_type": "stream",
          "name": "stdout",
          "text": [
            "284807 227845 56962\n",
            "284807 227845 56962\n"
          ]
        }
      ]
    },
    {
      "cell_type": "code",
      "source": [
        "print(X_train.shape, X_test.shape, y_train.shape, y_test.shape)"
      ],
      "metadata": {
        "colab": {
          "base_uri": "https://localhost:8080/"
        },
        "id": "nBraX1GTCRyK",
        "outputId": "bcd21324-8780-4051-8cd5-ba8647aeb6d8"
      },
      "execution_count": null,
      "outputs": [
        {
          "output_type": "stream",
          "name": "stdout",
          "text": [
            "(227845, 29) (56962, 29) (227845, 1) (56962, 1)\n"
          ]
        }
      ]
    },
    {
      "cell_type": "code",
      "source": [
        "X_train = X_train.T\n",
        "y_train = y_train.reshape(1, y_train.shape[0])\n",
        "X_test = X_test.T\n",
        "y_test = y_test.reshape(1, y_test.shape[0])"
      ],
      "metadata": {
        "id": "vakpm7DAzLCA"
      },
      "execution_count": null,
      "outputs": []
    },
    {
      "cell_type": "code",
      "source": [
        "print(len(X), len(X_train), len(X_test))\n",
        "print(len(y), len(y_train), len(y_test))"
      ],
      "metadata": {
        "colab": {
          "base_uri": "https://localhost:8080/"
        },
        "id": "WCVOTIWTjio3",
        "outputId": "68d77c91-b7cb-4f7f-d792-b8ced14ff663"
      },
      "execution_count": null,
      "outputs": [
        {
          "output_type": "stream",
          "name": "stdout",
          "text": [
            "284807 29 29\n",
            "284807 1 1\n"
          ]
        }
      ]
    },
    {
      "cell_type": "markdown",
      "source": [
        "# Perceptron with numpy"
      ],
      "metadata": {
        "id": "ptc8o2X19-9Z"
      }
    },
    {
      "cell_type": "code",
      "source": [
        "# definição da entrada, layers e saída do perceptron\n",
        "def frame(X, y, num_hidden_layers = 2):\n",
        "  X = X.shape[0]\n",
        "  hidden_layers = num_hidden_layers\n",
        "  y = y.shape[0]\n",
        "  \n",
        "  return (X, hidden_layers, y)"
      ],
      "metadata": {
        "id": "vUzCuK5LbA0H"
      },
      "execution_count": null,
      "outputs": []
    },
    {
      "cell_type": "code",
      "source": [
        "(X_input, hidden_layers, y_output) = frame(X_train, y_train)"
      ],
      "metadata": {
        "id": "oDh1bOs6cp8t"
      },
      "execution_count": null,
      "outputs": []
    },
    {
      "cell_type": "code",
      "source": [
        "# inicialização ramdômica\n",
        "def randomic_inicialization(X_input, hidden_layers, y_output):\n",
        "  np.random.seed(0)\n",
        "  weight1 = np.random.rand(hidden_layers, X_input)\n",
        "  bias1 = np.zeros((hidden_layers, 1))\n",
        "  weight2 = np.random.rand(y_output, hidden_layers)\n",
        "  bias2 = np.zeros((y_output, 1))\n",
        "  terms = {'Weight1': weight1,\n",
        "            'Bias1': bias1,\n",
        "            'Weight2': weight2,\n",
        "            'Bias2': bias2}\n",
        "\n",
        "  return terms"
      ],
      "metadata": {
        "id": "374218JRdFxF"
      },
      "execution_count": null,
      "outputs": []
    },
    {
      "cell_type": "code",
      "source": [
        "# função de ativação hidden layers - ReLu\n",
        "def relu(X):\n",
        "  return np.maximum(X, 0) # reta crescente\n",
        "\n",
        "# função de ativação output - sigmoide\n",
        "def sigmoide(z):\n",
        "  return 1/(1 + np.exp(-z))\n",
        "\n",
        "# propagação para frente\n",
        "def foward_propagation(X, terms):\n",
        "  weight1 = terms['Weight1']\n",
        "  bias1 = terms['Bias1']\n",
        "  weight2 = terms['Weight2']\n",
        "  bias2 = terms['Bias2']\n",
        "\n",
        "  z1 = np.dot(weight1, X) + bias1\n",
        "  out1 = relu(z1)\n",
        "  z2 = np.dot(weight2, out1) + bias2\n",
        "  out2 = sigmoide(z2)\n",
        "\n",
        "  result = {'z1': z1, \n",
        "            'out1': out1,\n",
        "            'z2': z2,\n",
        "            'out2': out2}\n",
        "  return out2, result"
      ],
      "metadata": {
        "id": "XH_wF1pKhk5K"
      },
      "execution_count": null,
      "outputs": []
    },
    {
      "cell_type": "code",
      "source": [
        "# calcular o custo \n",
        "def cost(out2, y, terms):\n",
        "  num_y = y.shape[1]\n",
        "\n",
        "  aux = np.multiply(np.log(out2), y) + np.multiply((1 - y), np.log(1 - out2))\n",
        "  cost_ = - np.sum(aux) / num_y \n",
        "  cost_ = float(np.squeeze(cost_))\n",
        "\n",
        "  return cost_\n",
        "\n",
        "# propagação para trás - backpropagation\n",
        "def backpropagation(terms, result, X, y):\n",
        "  num_x = X.shape[1]\n",
        "\n",
        "  b_weight1 = terms['Weight1']\n",
        "  b_weight2 = terms['Weight2']\n",
        "  b_out1 = result['out1']\n",
        "  b_out2 = result['out2']\n",
        "\n",
        "  dz2 = b_out2 - y\n",
        "  dw2 = (1 / num_x) * np.dot(dz2, b_out1.T)\n",
        "  db2 = (1 / num_x) * np.sum(dz2, axis = 1, keepdims = True)\n",
        "  dz1 = np.multiply(np.dot(b_weight2.T, dz2), 1 - np.power(b_out1, 2))\n",
        "  dw1 = (1 / num_x) * np.dot(dz1, X.T)\n",
        "  db1 = (1 / num_x) * np.sum(dz1, axis = 1, keepdims = True)\n",
        "\n",
        "  minus_grad = {'-dw1': dw1,\n",
        "                '-dw2': dw2,\n",
        "                '-db1': db1,\n",
        "                '-db2': db2}\n",
        "  return minus_grad "
      ],
      "metadata": {
        "id": "NVoI-aiUncWz"
      },
      "execution_count": null,
      "outputs": []
    },
    {
      "cell_type": "code",
      "source": [
        "# função gradiente descendente\n",
        "def grad_descent(terms, minus_grad, lr = 0.01):\n",
        "  weight1 = terms['Weight1']\n",
        "  bias1 = terms['Bias1']\n",
        "  weight2 = terms['Weight2']\n",
        "  bias2 = terms['Bias2']\n",
        "\n",
        "  dw1 = minus_grad['-dw1']\n",
        "  db1 = minus_grad['-db1']\n",
        "  dw2 = minus_grad['-dw2']\n",
        "  db2 = minus_grad['-db2']\n",
        "\n",
        "  #atualizando os parâmetros\n",
        "  weight1 = weight1 + (lr * dw1)\n",
        "  bias1 = bias1 + (lr * db1)\n",
        "  weight2 = weight2 - (lr * dw2)\n",
        "  bias2 = bias2 - (lr * db2)\n",
        "\n",
        "  terms = {'Weight1': weight1,\n",
        "                'Bias1': bias1, \n",
        "                'Weight2': weight2,\n",
        "                'Bias2': bias2}\n",
        "                \n",
        "  return terms"
      ],
      "metadata": {
        "id": "hN-ns0sBxkE4"
      },
      "execution_count": null,
      "outputs": []
    },
    {
      "cell_type": "code",
      "source": [
        "# treinamento do perceptron\n",
        "def perceptron_fit(X, y, hidden_layers, epochs = 20000):\n",
        "  np.random.seed(0)\n",
        "\n",
        "  X_input = frame(X, y)[0]\n",
        "  y_output = frame(X, y)[2]\n",
        "\n",
        "  terms = randomic_inicialization(X_input, hidden_layers, y_output)\n",
        "\n",
        "  weight1 = terms['Weight1']\n",
        "  bias1 = terms['Bias1']\n",
        "  weight2 = terms['Weight2']\n",
        "  bias2 = terms['Bias2']\n",
        "\n",
        "  for idx in range(0, epochs):\n",
        "    out2, result = foward_propagation(X, terms)\n",
        "    cost_ = cost(out2, y, terms)\n",
        "    minus_grad = backpropagation(terms, result, X, y)\n",
        "    terms = grad_descent(terms, minus_grad)\n",
        "\n",
        "    return terms\n",
        "\n",
        "terms = perceptron_fit(X_train, y_train, 2, epochs = 20000)\n",
        "terms"
      ],
      "metadata": {
        "colab": {
          "base_uri": "https://localhost:8080/"
        },
        "id": "2coTFibRz11e",
        "outputId": "93dc7bff-a1a8-4e88-b0a1-61635513bcc6"
      },
      "execution_count": null,
      "outputs": [
        {
          "output_type": "stream",
          "name": "stderr",
          "text": [
            "/usr/local/lib/python3.7/dist-packages/ipykernel_launcher.py:5: RuntimeWarning: divide by zero encountered in log\n",
            "  \"\"\"\n",
            "/usr/local/lib/python3.7/dist-packages/ipykernel_launcher.py:5: RuntimeWarning: invalid value encountered in multiply\n",
            "  \"\"\"\n"
          ]
        },
        {
          "output_type": "execute_result",
          "data": {
            "text/plain": [
              "{'Bias1': array([[-87.09157391],\n",
              "        [-10.65609449]]),\n",
              " 'Bias2': array([[-0.00914152]]),\n",
              " 'Weight1': array([[ 5.38953960e+02,  9.08408537e+02,  3.75016607e+02,\n",
              "         -2.18474665e+02,  5.14513408e+02, -2.67400077e+02,\n",
              "         -5.76761377e+02,  1.25388896e+02,  4.07042143e+01,\n",
              "          1.44531053e+02, -9.15835845e+00,  1.53021227e+01,\n",
              "         -3.13715893e+01, -5.24760411e+01, -2.60825691e+01,\n",
              "         -4.15705544e+01, -3.74159476e+00, -4.17995480e+01,\n",
              "          7.52364944e+01, -4.19075697e+02, -1.20364323e+02,\n",
              "          1.03202980e+02,  1.26713030e+02, -8.88569924e+00,\n",
              "          5.75621594e+01,  1.78520662e+01,  2.56795265e+00,\n",
              "         -1.25644571e+01, -3.02619857e+05],\n",
              "        [ 6.63675295e+01,  1.11505731e+02,  4.65231517e+01,\n",
              "         -2.64617869e+01,  6.33040950e+01, -3.26321321e+01,\n",
              "         -6.99420187e+01,  1.57692261e+01,  5.48240225e+00,\n",
              "          1.85151145e+01, -5.85332389e-01,  2.19148428e+00,\n",
              "         -3.49083794e+00, -5.83499378e+00, -3.13683368e+00,\n",
              "         -4.46160117e+00,  2.08809655e-01, -4.97394345e+00,\n",
              "          9.25399435e+00, -5.11640206e+01, -1.45165644e+01,\n",
              "          1.30919937e+01,  1.58224317e+01, -2.11749842e-01,\n",
              "          7.12120525e+00,  2.32158343e+00,  4.93109100e-01,\n",
              "         -1.02954070e+00, -3.70281634e+04]]),\n",
              " 'Weight2': array([[0.00431286, 0.01939225]])}"
            ]
          },
          "metadata": {},
          "execution_count": 219
        }
      ]
    },
    {
      "cell_type": "code",
      "source": [
        "def perceptron_pred(terms, X):\n",
        "  out2, result = foward_propagation(X, terms)\n",
        "  y_pred = np.round(out2)\n",
        "  \n",
        "  return y_pred "
      ],
      "metadata": {
        "id": "W3ncET8J_TXe"
      },
      "execution_count": null,
      "outputs": []
    },
    {
      "cell_type": "code",
      "source": [
        "predictions = perceptron_pred(terms, X_train)\n",
        "print ('Accuracy Train: %d' % float((np.dot(y_train, predictions.T) + np.dot(1 - y_train, 1 - predictions.T))/float(y_train.size)*100) + '%')\n",
        "\n",
        "predictions = perceptron_pred(terms, X_test)\n",
        "print ('Accuracy Test: %d' % float((np.dot(y_test, predictions.T) + np.dot(1 - y_test, 1 - predictions.T))/float(y_test.size)*100) + '%')"
      ],
      "metadata": {
        "id": "caOOEAJzAc6E",
        "colab": {
          "base_uri": "https://localhost:8080/"
        },
        "outputId": "a5316e6e-b6c4-448c-b48f-62348ff3a3b4"
      },
      "execution_count": null,
      "outputs": [
        {
          "output_type": "stream",
          "name": "stdout",
          "text": [
            "Accuracy Train: 99%\n",
            "Accuracy Test: 99%\n"
          ]
        }
      ]
    },
    {
      "cell_type": "markdown",
      "source": [
        "A acurácia foi muito alta. É possível que a análise esteja viciada pois existem:\n",
        "\n",
        "\n",
        "* 0  -  284315 amostras\n",
        "\n",
        "* 1  -    492 amostras "
      ],
      "metadata": {
        "id": "PrGMx8WVpl4U"
      }
    },
    {
      "cell_type": "markdown",
      "source": [
        "Existem muito mais amostras com 0 (sem fraude) do que amostras com 1 (com fraude), o que pode acabar viciando o modelo e ocorrendo **overfitting** (aprende até demais sobre o modelo e, de um certo modo, \"decora\" as labels. "
      ],
      "metadata": {
        "id": "VzO8LaLOq3Z5"
      }
    },
    {
      "cell_type": "markdown",
      "source": [
        "# Ajustando as amostras manualmente para corrigir overfitting"
      ],
      "metadata": {
        "id": "F8gOjQ_jshEh"
      }
    },
    {
      "cell_type": "code",
      "source": [
        "df.head()"
      ],
      "metadata": {
        "colab": {
          "base_uri": "https://localhost:8080/",
          "height": 270
        },
        "id": "VB516qvksnjK",
        "outputId": "97bcf14c-7240-4dfe-b179-51697131cfd8"
      },
      "execution_count": null,
      "outputs": [
        {
          "output_type": "execute_result",
          "data": {
            "text/html": [
              "\n",
              "  <div id=\"df-3c7dbe9c-0778-46d9-ac0b-281189e2f6df\">\n",
              "    <div class=\"colab-df-container\">\n",
              "      <div>\n",
              "<style scoped>\n",
              "    .dataframe tbody tr th:only-of-type {\n",
              "        vertical-align: middle;\n",
              "    }\n",
              "\n",
              "    .dataframe tbody tr th {\n",
              "        vertical-align: top;\n",
              "    }\n",
              "\n",
              "    .dataframe thead th {\n",
              "        text-align: right;\n",
              "    }\n",
              "</style>\n",
              "<table border=\"1\" class=\"dataframe\">\n",
              "  <thead>\n",
              "    <tr style=\"text-align: right;\">\n",
              "      <th></th>\n",
              "      <th>V1</th>\n",
              "      <th>V2</th>\n",
              "      <th>V3</th>\n",
              "      <th>V4</th>\n",
              "      <th>V5</th>\n",
              "      <th>V6</th>\n",
              "      <th>V7</th>\n",
              "      <th>V8</th>\n",
              "      <th>V9</th>\n",
              "      <th>V10</th>\n",
              "      <th>V11</th>\n",
              "      <th>V12</th>\n",
              "      <th>V13</th>\n",
              "      <th>V14</th>\n",
              "      <th>V15</th>\n",
              "      <th>V16</th>\n",
              "      <th>V17</th>\n",
              "      <th>V18</th>\n",
              "      <th>V19</th>\n",
              "      <th>V20</th>\n",
              "      <th>V21</th>\n",
              "      <th>V22</th>\n",
              "      <th>V23</th>\n",
              "      <th>V24</th>\n",
              "      <th>V25</th>\n",
              "      <th>V26</th>\n",
              "      <th>V27</th>\n",
              "      <th>V28</th>\n",
              "      <th>Amount</th>\n",
              "      <th>Class</th>\n",
              "    </tr>\n",
              "  </thead>\n",
              "  <tbody>\n",
              "    <tr>\n",
              "      <th>0</th>\n",
              "      <td>-1.359807</td>\n",
              "      <td>-0.072781</td>\n",
              "      <td>2.536347</td>\n",
              "      <td>1.378155</td>\n",
              "      <td>-0.338321</td>\n",
              "      <td>0.462388</td>\n",
              "      <td>0.239599</td>\n",
              "      <td>0.098698</td>\n",
              "      <td>0.363787</td>\n",
              "      <td>0.090794</td>\n",
              "      <td>-0.551600</td>\n",
              "      <td>-0.617801</td>\n",
              "      <td>-0.991390</td>\n",
              "      <td>-0.311169</td>\n",
              "      <td>1.468177</td>\n",
              "      <td>-0.470401</td>\n",
              "      <td>0.207971</td>\n",
              "      <td>0.025791</td>\n",
              "      <td>0.403993</td>\n",
              "      <td>0.251412</td>\n",
              "      <td>-0.018307</td>\n",
              "      <td>0.277838</td>\n",
              "      <td>-0.110474</td>\n",
              "      <td>0.066928</td>\n",
              "      <td>0.128539</td>\n",
              "      <td>-0.189115</td>\n",
              "      <td>0.133558</td>\n",
              "      <td>-0.021053</td>\n",
              "      <td>149.62</td>\n",
              "      <td>0</td>\n",
              "    </tr>\n",
              "    <tr>\n",
              "      <th>1</th>\n",
              "      <td>1.191857</td>\n",
              "      <td>0.266151</td>\n",
              "      <td>0.166480</td>\n",
              "      <td>0.448154</td>\n",
              "      <td>0.060018</td>\n",
              "      <td>-0.082361</td>\n",
              "      <td>-0.078803</td>\n",
              "      <td>0.085102</td>\n",
              "      <td>-0.255425</td>\n",
              "      <td>-0.166974</td>\n",
              "      <td>1.612727</td>\n",
              "      <td>1.065235</td>\n",
              "      <td>0.489095</td>\n",
              "      <td>-0.143772</td>\n",
              "      <td>0.635558</td>\n",
              "      <td>0.463917</td>\n",
              "      <td>-0.114805</td>\n",
              "      <td>-0.183361</td>\n",
              "      <td>-0.145783</td>\n",
              "      <td>-0.069083</td>\n",
              "      <td>-0.225775</td>\n",
              "      <td>-0.638672</td>\n",
              "      <td>0.101288</td>\n",
              "      <td>-0.339846</td>\n",
              "      <td>0.167170</td>\n",
              "      <td>0.125895</td>\n",
              "      <td>-0.008983</td>\n",
              "      <td>0.014724</td>\n",
              "      <td>2.69</td>\n",
              "      <td>0</td>\n",
              "    </tr>\n",
              "    <tr>\n",
              "      <th>2</th>\n",
              "      <td>-1.358354</td>\n",
              "      <td>-1.340163</td>\n",
              "      <td>1.773209</td>\n",
              "      <td>0.379780</td>\n",
              "      <td>-0.503198</td>\n",
              "      <td>1.800499</td>\n",
              "      <td>0.791461</td>\n",
              "      <td>0.247676</td>\n",
              "      <td>-1.514654</td>\n",
              "      <td>0.207643</td>\n",
              "      <td>0.624501</td>\n",
              "      <td>0.066084</td>\n",
              "      <td>0.717293</td>\n",
              "      <td>-0.165946</td>\n",
              "      <td>2.345865</td>\n",
              "      <td>-2.890083</td>\n",
              "      <td>1.109969</td>\n",
              "      <td>-0.121359</td>\n",
              "      <td>-2.261857</td>\n",
              "      <td>0.524980</td>\n",
              "      <td>0.247998</td>\n",
              "      <td>0.771679</td>\n",
              "      <td>0.909412</td>\n",
              "      <td>-0.689281</td>\n",
              "      <td>-0.327642</td>\n",
              "      <td>-0.139097</td>\n",
              "      <td>-0.055353</td>\n",
              "      <td>-0.059752</td>\n",
              "      <td>378.66</td>\n",
              "      <td>0</td>\n",
              "    </tr>\n",
              "    <tr>\n",
              "      <th>3</th>\n",
              "      <td>-0.966272</td>\n",
              "      <td>-0.185226</td>\n",
              "      <td>1.792993</td>\n",
              "      <td>-0.863291</td>\n",
              "      <td>-0.010309</td>\n",
              "      <td>1.247203</td>\n",
              "      <td>0.237609</td>\n",
              "      <td>0.377436</td>\n",
              "      <td>-1.387024</td>\n",
              "      <td>-0.054952</td>\n",
              "      <td>-0.226487</td>\n",
              "      <td>0.178228</td>\n",
              "      <td>0.507757</td>\n",
              "      <td>-0.287924</td>\n",
              "      <td>-0.631418</td>\n",
              "      <td>-1.059647</td>\n",
              "      <td>-0.684093</td>\n",
              "      <td>1.965775</td>\n",
              "      <td>-1.232622</td>\n",
              "      <td>-0.208038</td>\n",
              "      <td>-0.108300</td>\n",
              "      <td>0.005274</td>\n",
              "      <td>-0.190321</td>\n",
              "      <td>-1.175575</td>\n",
              "      <td>0.647376</td>\n",
              "      <td>-0.221929</td>\n",
              "      <td>0.062723</td>\n",
              "      <td>0.061458</td>\n",
              "      <td>123.50</td>\n",
              "      <td>0</td>\n",
              "    </tr>\n",
              "    <tr>\n",
              "      <th>4</th>\n",
              "      <td>-1.158233</td>\n",
              "      <td>0.877737</td>\n",
              "      <td>1.548718</td>\n",
              "      <td>0.403034</td>\n",
              "      <td>-0.407193</td>\n",
              "      <td>0.095921</td>\n",
              "      <td>0.592941</td>\n",
              "      <td>-0.270533</td>\n",
              "      <td>0.817739</td>\n",
              "      <td>0.753074</td>\n",
              "      <td>-0.822843</td>\n",
              "      <td>0.538196</td>\n",
              "      <td>1.345852</td>\n",
              "      <td>-1.119670</td>\n",
              "      <td>0.175121</td>\n",
              "      <td>-0.451449</td>\n",
              "      <td>-0.237033</td>\n",
              "      <td>-0.038195</td>\n",
              "      <td>0.803487</td>\n",
              "      <td>0.408542</td>\n",
              "      <td>-0.009431</td>\n",
              "      <td>0.798278</td>\n",
              "      <td>-0.137458</td>\n",
              "      <td>0.141267</td>\n",
              "      <td>-0.206010</td>\n",
              "      <td>0.502292</td>\n",
              "      <td>0.219422</td>\n",
              "      <td>0.215153</td>\n",
              "      <td>69.99</td>\n",
              "      <td>0</td>\n",
              "    </tr>\n",
              "  </tbody>\n",
              "</table>\n",
              "</div>\n",
              "      <button class=\"colab-df-convert\" onclick=\"convertToInteractive('df-3c7dbe9c-0778-46d9-ac0b-281189e2f6df')\"\n",
              "              title=\"Convert this dataframe to an interactive table.\"\n",
              "              style=\"display:none;\">\n",
              "        \n",
              "  <svg xmlns=\"http://www.w3.org/2000/svg\" height=\"24px\"viewBox=\"0 0 24 24\"\n",
              "       width=\"24px\">\n",
              "    <path d=\"M0 0h24v24H0V0z\" fill=\"none\"/>\n",
              "    <path d=\"M18.56 5.44l.94 2.06.94-2.06 2.06-.94-2.06-.94-.94-2.06-.94 2.06-2.06.94zm-11 1L8.5 8.5l.94-2.06 2.06-.94-2.06-.94L8.5 2.5l-.94 2.06-2.06.94zm10 10l.94 2.06.94-2.06 2.06-.94-2.06-.94-.94-2.06-.94 2.06-2.06.94z\"/><path d=\"M17.41 7.96l-1.37-1.37c-.4-.4-.92-.59-1.43-.59-.52 0-1.04.2-1.43.59L10.3 9.45l-7.72 7.72c-.78.78-.78 2.05 0 2.83L4 21.41c.39.39.9.59 1.41.59.51 0 1.02-.2 1.41-.59l7.78-7.78 2.81-2.81c.8-.78.8-2.07 0-2.86zM5.41 20L4 18.59l7.72-7.72 1.47 1.35L5.41 20z\"/>\n",
              "  </svg>\n",
              "      </button>\n",
              "      \n",
              "  <style>\n",
              "    .colab-df-container {\n",
              "      display:flex;\n",
              "      flex-wrap:wrap;\n",
              "      gap: 12px;\n",
              "    }\n",
              "\n",
              "    .colab-df-convert {\n",
              "      background-color: #E8F0FE;\n",
              "      border: none;\n",
              "      border-radius: 50%;\n",
              "      cursor: pointer;\n",
              "      display: none;\n",
              "      fill: #1967D2;\n",
              "      height: 32px;\n",
              "      padding: 0 0 0 0;\n",
              "      width: 32px;\n",
              "    }\n",
              "\n",
              "    .colab-df-convert:hover {\n",
              "      background-color: #E2EBFA;\n",
              "      box-shadow: 0px 1px 2px rgba(60, 64, 67, 0.3), 0px 1px 3px 1px rgba(60, 64, 67, 0.15);\n",
              "      fill: #174EA6;\n",
              "    }\n",
              "\n",
              "    [theme=dark] .colab-df-convert {\n",
              "      background-color: #3B4455;\n",
              "      fill: #D2E3FC;\n",
              "    }\n",
              "\n",
              "    [theme=dark] .colab-df-convert:hover {\n",
              "      background-color: #434B5C;\n",
              "      box-shadow: 0px 1px 3px 1px rgba(0, 0, 0, 0.15);\n",
              "      filter: drop-shadow(0px 1px 2px rgba(0, 0, 0, 0.3));\n",
              "      fill: #FFFFFF;\n",
              "    }\n",
              "  </style>\n",
              "\n",
              "      <script>\n",
              "        const buttonEl =\n",
              "          document.querySelector('#df-3c7dbe9c-0778-46d9-ac0b-281189e2f6df button.colab-df-convert');\n",
              "        buttonEl.style.display =\n",
              "          google.colab.kernel.accessAllowed ? 'block' : 'none';\n",
              "\n",
              "        async function convertToInteractive(key) {\n",
              "          const element = document.querySelector('#df-3c7dbe9c-0778-46d9-ac0b-281189e2f6df');\n",
              "          const dataTable =\n",
              "            await google.colab.kernel.invokeFunction('convertToInteractive',\n",
              "                                                     [key], {});\n",
              "          if (!dataTable) return;\n",
              "\n",
              "          const docLinkHtml = 'Like what you see? Visit the ' +\n",
              "            '<a target=\"_blank\" href=https://colab.research.google.com/notebooks/data_table.ipynb>data table notebook</a>'\n",
              "            + ' to learn more about interactive tables.';\n",
              "          element.innerHTML = '';\n",
              "          dataTable['output_type'] = 'display_data';\n",
              "          await google.colab.output.renderOutput(dataTable, element);\n",
              "          const docLink = document.createElement('div');\n",
              "          docLink.innerHTML = docLinkHtml;\n",
              "          element.appendChild(docLink);\n",
              "        }\n",
              "      </script>\n",
              "    </div>\n",
              "  </div>\n",
              "  "
            ],
            "text/plain": [
              "         V1        V2        V3        V4  ...       V27       V28  Amount  Class\n",
              "0 -1.359807 -0.072781  2.536347  1.378155  ...  0.133558 -0.021053  149.62      0\n",
              "1  1.191857  0.266151  0.166480  0.448154  ... -0.008983  0.014724    2.69      0\n",
              "2 -1.358354 -1.340163  1.773209  0.379780  ... -0.055353 -0.059752  378.66      0\n",
              "3 -0.966272 -0.185226  1.792993 -0.863291  ...  0.062723  0.061458  123.50      0\n",
              "4 -1.158233  0.877737  1.548718  0.403034  ...  0.219422  0.215153   69.99      0\n",
              "\n",
              "[5 rows x 30 columns]"
            ]
          },
          "metadata": {},
          "execution_count": 222
        }
      ]
    },
    {
      "cell_type": "code",
      "source": [
        "# dados para class = 1\n",
        "\n",
        "df_new = df.copy()\n",
        "\n",
        "aux = df_new.query('Class == 1')\n",
        "X_1 = aux.drop('Class', axis = 1)\n",
        "X_1 = np.array(X_1)\n",
        "\n",
        "y_1 = aux[['Class', 'Amount']]\n",
        "y_1 = y_1.drop('Amount', axis = 1)\n",
        "y_1 = np.array(y_1)\n",
        "\n",
        "\n",
        "print(X_1.shape, y_1.shape)"
      ],
      "metadata": {
        "colab": {
          "base_uri": "https://localhost:8080/"
        },
        "id": "z4BTDpnBsfo9",
        "outputId": "747e8cdc-3538-459b-9b7a-b24b1105138e"
      },
      "execution_count": null,
      "outputs": [
        {
          "output_type": "stream",
          "name": "stdout",
          "text": [
            "(492, 29) (492, 1)\n"
          ]
        }
      ]
    },
    {
      "cell_type": "code",
      "source": [
        "# dados para class = 0\n",
        "\n",
        "aux2 = df_new.query('Class == 0')\n",
        "\n",
        "X_2 = aux2.drop('Class', axis = 1)\n",
        "X_2 = np.array(X_2)\n",
        "\n",
        "y_2 = aux2[['Class', 'Amount']]\n",
        "y_2 = y_2.drop('Amount', axis = 1)\n",
        "y_2 = np.array(y_2)\n",
        "\n",
        "y_2 = y_2[:394]\n",
        "print(X_2.shape, y_2.shape)"
      ],
      "metadata": {
        "colab": {
          "base_uri": "https://localhost:8080/"
        },
        "id": "zcpZOtwVur-6",
        "outputId": "07063d68-ca30-44e4-c386-4629c684ab55"
      },
      "execution_count": null,
      "outputs": [
        {
          "output_type": "stream",
          "name": "stdout",
          "text": [
            "(284315, 29) (394, 1)\n"
          ]
        }
      ]
    },
    {
      "cell_type": "code",
      "source": [
        "X2_train = np.concatenate((X_1[:394], X_2[:394]))\n",
        "X2_test = np.concatenate((X_1[:98], X_2[:98]))\n",
        "\n",
        "y2_train = np.concatenate((y_1[:394], y_2[:394]))\n",
        "y2_test = np.concatenate((y_1[:98], y_2[:98]))"
      ],
      "metadata": {
        "id": "1Rj-GvpexE9E"
      },
      "execution_count": null,
      "outputs": []
    },
    {
      "cell_type": "code",
      "source": [
        "print(X2_train.shape, X2_test.shape, y2_train.shape, y2_test.shape)"
      ],
      "metadata": {
        "colab": {
          "base_uri": "https://localhost:8080/"
        },
        "id": "TTwbEqjO1E9-",
        "outputId": "e7736576-32c5-4982-ae41-d52448613afb"
      },
      "execution_count": null,
      "outputs": [
        {
          "output_type": "stream",
          "name": "stdout",
          "text": [
            "(788, 29) (196, 29) (788, 1) (196, 1)\n"
          ]
        }
      ]
    },
    {
      "cell_type": "code",
      "source": [
        "X2_train_f = X2_train.T\n",
        "y2_train_f = y2_train.reshape(1, y2_train.shape[0])\n",
        "X2_test_f = X2_test.T\n",
        "y2_test_f = y2_test.reshape(1, y2_test.shape[0])"
      ],
      "metadata": {
        "id": "NdYtD0Vz4lx9"
      },
      "execution_count": null,
      "outputs": []
    },
    {
      "cell_type": "code",
      "source": [
        "(X_input, hidden_layers, y_output) = frame(X2_train_f, y2_train_f)"
      ],
      "metadata": {
        "id": "GkgR-byv4CMv"
      },
      "execution_count": null,
      "outputs": []
    },
    {
      "cell_type": "code",
      "source": [
        "terms = perceptron_fit(X2_train_f, y2_train_f, 2, epochs = 20000)"
      ],
      "metadata": {
        "colab": {
          "base_uri": "https://localhost:8080/"
        },
        "id": "pjkCNjPu3T12",
        "outputId": "87684f95-e336-4be8-bd32-f9d69349d68d"
      },
      "execution_count": null,
      "outputs": [
        {
          "output_type": "stream",
          "name": "stderr",
          "text": [
            "/usr/local/lib/python3.7/dist-packages/ipykernel_launcher.py:5: RuntimeWarning: divide by zero encountered in log\n",
            "  \"\"\"\n",
            "/usr/local/lib/python3.7/dist-packages/ipykernel_launcher.py:5: RuntimeWarning: invalid value encountered in multiply\n",
            "  \"\"\"\n"
          ]
        }
      ]
    },
    {
      "cell_type": "code",
      "source": [
        "def perceptron_pred(terms, X):\n",
        "  out2, result = foward_propagation(X, terms)\n",
        "  y_pred = np.round(out2)\n",
        "  \n",
        "  return y_pred "
      ],
      "metadata": {
        "id": "bobX8xZt3Z5U"
      },
      "execution_count": null,
      "outputs": []
    },
    {
      "cell_type": "code",
      "source": [
        "predictions = perceptron_pred(terms, X2_train_f)\n",
        "print ('Accuracy Train: %d' % float((np.dot(y2_train_f, predictions.T) + np.dot(1 - y2_train_f, 1 - predictions.T))/float(y2_train_f.size)*100) + '%')\n",
        "\n",
        "predictions = perceptron_pred(terms, X2_test_f)\n",
        "print ('Accuracy Test: %d' % float((np.dot(y2_test_f, predictions.T) + np.dot(1 - y2_test_f, 1 - predictions.T))/float(y2_test_f.size)*100) + '%')"
      ],
      "metadata": {
        "colab": {
          "base_uri": "https://localhost:8080/"
        },
        "outputId": "231784c1-3458-4954-f949-19aed1e875bb",
        "id": "Z08wNxoN3Z5V"
      },
      "execution_count": null,
      "outputs": [
        {
          "output_type": "stream",
          "name": "stdout",
          "text": [
            "Accuracy Train: 51%\n",
            "Accuracy Test: 51%\n"
          ]
        }
      ]
    },
    {
      "cell_type": "markdown",
      "source": [
        "* A diminuição de amostras diminuiu a eficácia da rede de duas camadas ocultas."
      ],
      "metadata": {
        "id": "ZjZLUO8iysLi"
      }
    },
    {
      "cell_type": "markdown",
      "source": [
        "# Ajustando as amostras com oversampling para corrigir overfitting"
      ],
      "metadata": {
        "id": "4lAZy76HFXRG"
      }
    },
    {
      "cell_type": "code",
      "source": [
        "from imblearn.over_sampling import SMOTE"
      ],
      "metadata": {
        "id": "Js7SxFcO1Ng4"
      },
      "execution_count": null,
      "outputs": []
    },
    {
      "cell_type": "code",
      "source": [
        "smote = SMOTE()\n",
        "aux = df[['Class', 'Amount']]\n",
        "Xo_smote, yo_smote = smote.fit_resample(df.drop(columns = 'Class'), aux.drop(columns = 'Amount'))"
      ],
      "metadata": {
        "id": "0HqB_Tya8Egg"
      },
      "execution_count": null,
      "outputs": []
    },
    {
      "cell_type": "code",
      "source": [
        "Xo_smote = np.array(Xo_smote)\n",
        "yo_smote = np.array(yo_smote)"
      ],
      "metadata": {
        "id": "yfVM4qzrjBkj"
      },
      "execution_count": null,
      "outputs": []
    },
    {
      "cell_type": "code",
      "source": [
        "Xo_train, Xo_test, yo_train, yo_test = train_test_split(Xo_smote, yo_smote, test_size = 0.2, random_state = 0)"
      ],
      "metadata": {
        "id": "DMH3GNTaASLH"
      },
      "execution_count": null,
      "outputs": []
    },
    {
      "cell_type": "code",
      "source": [
        "print(Xo_train.shape, Xo_test.shape, yo_train.shape, yo_test.shape)"
      ],
      "metadata": {
        "colab": {
          "base_uri": "https://localhost:8080/"
        },
        "id": "YNOJ6cSUJBcv",
        "outputId": "4033ba24-d610-4379-a84a-7dd5ff5e36bf"
      },
      "execution_count": null,
      "outputs": [
        {
          "output_type": "stream",
          "name": "stdout",
          "text": [
            "(454904, 29) (113726, 29) (454904, 1) (113726, 1)\n"
          ]
        }
      ]
    },
    {
      "cell_type": "code",
      "source": [
        "Xo_train = Xo_train.T\n",
        "yo_train = yo_train.reshape(1, yo_train.shape[0])\n",
        "Xo_test = Xo_test.T\n",
        "yo_test = yo_test.reshape(1, yo_test.shape[0])"
      ],
      "metadata": {
        "id": "BmWknQU4IXjN"
      },
      "execution_count": null,
      "outputs": []
    },
    {
      "cell_type": "code",
      "source": [
        "(X_input, hidden_layers, y_output) = frame(Xo_train, yo_train)"
      ],
      "metadata": {
        "id": "ToeRZthMIXjO"
      },
      "execution_count": null,
      "outputs": []
    },
    {
      "cell_type": "code",
      "source": [
        "terms = perceptron_fit(Xo_train, yo_train, 2, epochs = 20000)"
      ],
      "metadata": {
        "colab": {
          "base_uri": "https://localhost:8080/"
        },
        "outputId": "c5a7f516-4274-4f63-82c3-fc2d9ea1a00b",
        "id": "cj14YYNMIXjO"
      },
      "execution_count": null,
      "outputs": [
        {
          "output_type": "stream",
          "name": "stderr",
          "text": [
            "/usr/local/lib/python3.7/dist-packages/ipykernel_launcher.py:5: RuntimeWarning: divide by zero encountered in log\n",
            "  \"\"\"\n",
            "/usr/local/lib/python3.7/dist-packages/ipykernel_launcher.py:5: RuntimeWarning: invalid value encountered in multiply\n",
            "  \"\"\"\n"
          ]
        }
      ]
    },
    {
      "cell_type": "code",
      "source": [
        "def perceptron_pred(terms, X):\n",
        "  out2, result = foward_propagation(X, terms)\n",
        "  y_pred = np.round(out2)\n",
        "  \n",
        "  return y_pred "
      ],
      "metadata": {
        "id": "dIHANjZtIXjP"
      },
      "execution_count": null,
      "outputs": []
    },
    {
      "cell_type": "code",
      "source": [
        "predictions = perceptron_pred(terms, Xo_train)\n",
        "print ('Accuracy Train: %d' % float((np.dot(yo_train, predictions.T) + np.dot(1 - yo_train, 1 - predictions.T))/float(yo_train.size)*100) + '%')\n",
        "\n",
        "predictions = perceptron_pred(terms, Xo_test)\n",
        "print ('Accuracy Test: %d' % float((np.dot(yo_test, predictions.T) + np.dot(1 - yo_test, 1 - predictions.T))/float(yo_test.size)*100) + '%')"
      ],
      "metadata": {
        "colab": {
          "base_uri": "https://localhost:8080/"
        },
        "outputId": "fb97bc05-6165-4a75-92a5-6f2708a85d72",
        "id": "DohndkcmIXjQ"
      },
      "execution_count": null,
      "outputs": [
        {
          "output_type": "stream",
          "name": "stdout",
          "text": [
            "Accuracy Train: 50%\n",
            "Accuracy Test: 50%\n"
          ]
        }
      ]
    },
    {
      "cell_type": "markdown",
      "source": [
        "O aumento das amostras com o oversampling também não garantiu uma eficácia muito boa. Provavelmente, as amostras criadas para operações fraudulentas (Class = 1) não foram muito parecidas com as do dataset original."
      ],
      "metadata": {
        "id": "je293952y-ip"
      }
    },
    {
      "cell_type": "markdown",
      "source": [
        "# Percentron with sklearn"
      ],
      "metadata": {
        "id": "KVxeYq0-OFvC"
      }
    },
    {
      "cell_type": "code",
      "source": [
        "from sklearn.linear_model import Perceptron \n",
        "from sklearn.model_selection import train_test_split\n",
        "from sklearn.metrics import classification_report"
      ],
      "metadata": {
        "id": "-s6DyjWJFZVt"
      },
      "execution_count": null,
      "outputs": []
    },
    {
      "cell_type": "code",
      "source": [
        "perceptron = Perceptron()"
      ],
      "metadata": {
        "id": "QTKmiLbLODFf"
      },
      "execution_count": null,
      "outputs": []
    },
    {
      "cell_type": "code",
      "source": [
        "perceptron.fit(X2_train, y2_train)"
      ],
      "metadata": {
        "id": "ORGhqok0ORkd",
        "colab": {
          "base_uri": "https://localhost:8080/"
        },
        "outputId": "64b11bb7-c838-411c-c5a0-f635ebed67d0"
      },
      "execution_count": null,
      "outputs": [
        {
          "output_type": "stream",
          "name": "stderr",
          "text": [
            "/usr/local/lib/python3.7/dist-packages/sklearn/utils/validation.py:993: DataConversionWarning: A column-vector y was passed when a 1d array was expected. Please change the shape of y to (n_samples, ), for example using ravel().\n",
            "  y = column_or_1d(y, warn=True)\n"
          ]
        },
        {
          "output_type": "execute_result",
          "data": {
            "text/plain": [
              "Perceptron()"
            ]
          },
          "metadata": {},
          "execution_count": 294
        }
      ]
    },
    {
      "cell_type": "code",
      "source": [
        "y_pred = perceptron.predict(X2_test)"
      ],
      "metadata": {
        "id": "bHR9noS_OUnu"
      },
      "execution_count": null,
      "outputs": []
    },
    {
      "cell_type": "code",
      "source": [
        "metrics = classification_report(y2_test, y_pred)\n",
        "\n",
        "print(metrics)"
      ],
      "metadata": {
        "id": "YSYWT4GqOf6C",
        "colab": {
          "base_uri": "https://localhost:8080/"
        },
        "outputId": "027a3cd0-76ce-4ce8-b34e-db2f58d6562c"
      },
      "execution_count": null,
      "outputs": [
        {
          "output_type": "stream",
          "name": "stdout",
          "text": [
            "              precision    recall  f1-score   support\n",
            "\n",
            "           0       0.95      1.00      0.98        98\n",
            "           1       1.00      0.95      0.97        98\n",
            "\n",
            "    accuracy                           0.97       196\n",
            "   macro avg       0.98      0.97      0.97       196\n",
            "weighted avg       0.98      0.97      0.97       196\n",
            "\n"
          ]
        }
      ]
    },
    {
      "cell_type": "markdown",
      "source": [
        "* 97% de acurácia com o perceptron do sklearn (amostras com label igualmente distribuídas). \n",
        "* Alta acurácia em decorrência da implementação por biblioteca."
      ],
      "metadata": {
        "id": "YCAEDljzPU5I"
      }
    },
    {
      "cell_type": "markdown",
      "source": [
        "# Treinando a rede neural com o Tensor Flow "
      ],
      "metadata": {
        "id": "sAv1TiMuOvoN"
      }
    },
    {
      "cell_type": "code",
      "source": [
        "import tensorflow as tf\n",
        "from tensorflow import keras"
      ],
      "metadata": {
        "id": "MYdxHg3FOumW"
      },
      "execution_count": null,
      "outputs": []
    },
    {
      "cell_type": "code",
      "source": [
        "model = keras.models.Sequential()  # Cria uma rede neural sequencial - feed foward\n",
        "model.add(keras.layers.Dense(2, activation='relu', input_shape=X_train[0].shape)) # primeira hidden layer\n",
        "model.add(keras.layers.Dropout(0.2))\n",
        "model.add(keras.layers.Dense(1, activation= 'sigmoid')) # output layer com ativação sigmoid\n",
        "\n",
        "model.summary()"
      ],
      "metadata": {
        "colab": {
          "base_uri": "https://localhost:8080/"
        },
        "id": "RjU3XV6hPA0V",
        "outputId": "32504b66-7363-4955-deea-67f04111a00a"
      },
      "execution_count": null,
      "outputs": [
        {
          "output_type": "stream",
          "name": "stdout",
          "text": [
            "Model: \"sequential_7\"\n",
            "_________________________________________________________________\n",
            " Layer (type)                Output Shape              Param #   \n",
            "=================================================================\n",
            " dense_14 (Dense)            (None, 2)                 60        \n",
            "                                                                 \n",
            " dropout_7 (Dropout)         (None, 2)                 0         \n",
            "                                                                 \n",
            " dense_15 (Dense)            (None, 1)                 3         \n",
            "                                                                 \n",
            "=================================================================\n",
            "Total params: 63\n",
            "Trainable params: 63\n",
            "Non-trainable params: 0\n",
            "_________________________________________________________________\n"
          ]
        }
      ]
    },
    {
      "cell_type": "markdown",
      "source": [
        "**função compile()** configura o modelo:\n",
        "*   optimizer atualiza os pesos da rede\n",
        "*   loss é a função de erro que a rede minimiza\n",
        "\n"
      ],
      "metadata": {
        "id": "O5pY65eLo8vG"
      }
    },
    {
      "cell_type": "code",
      "source": [
        "model.compile(optimizer=\"sgd\", loss=\"categorical_crossentropy\", metrics=[\"binary_accuracy\"])"
      ],
      "metadata": {
        "id": "TsYwHSQNn8y5"
      },
      "execution_count": null,
      "outputs": []
    },
    {
      "cell_type": "markdown",
      "source": [
        "* batch size é a quantidade de \"pacotes\" que as amostras estão divididas.\n",
        "* epochs é a quantidade de ciclos."
      ],
      "metadata": {
        "id": "CUgs5cuHqHOg"
      }
    },
    {
      "cell_type": "code",
      "source": [
        "batch_size = 500  # X_train 42397 / 500 = 84.79 (então são 500 batches de 85)\n",
        "epochs = 500\n",
        "\n",
        "history  = model.fit(X2_train, y2_train,\n",
        "                     batch_size=batch_size,\n",
        "                     epochs=epochs,\n",
        "                     verbose=1,\n",
        "                     validation_data=(X2_test, y2_test))"
      ],
      "metadata": {
        "colab": {
          "base_uri": "https://localhost:8080/"
        },
        "id": "xNxZaQZmPzFa",
        "outputId": "66634a15-18cc-47d4-bb43-f83537681b76"
      },
      "execution_count": null,
      "outputs": [
        {
          "output_type": "stream",
          "name": "stdout",
          "text": [
            "Epoch 1/500\n",
            "2/2 [==============================] - 0s 91ms/step - loss: nan - binary_accuracy: 0.5000 - val_loss: nan - val_binary_accuracy: 0.5000\n",
            "Epoch 2/500\n",
            "2/2 [==============================] - 0s 46ms/step - loss: nan - binary_accuracy: 0.5000 - val_loss: nan - val_binary_accuracy: 0.5000\n",
            "Epoch 3/500\n",
            "2/2 [==============================] - 0s 53ms/step - loss: nan - binary_accuracy: 0.5000 - val_loss: nan - val_binary_accuracy: 0.5000\n",
            "Epoch 4/500\n",
            "2/2 [==============================] - 0s 39ms/step - loss: nan - binary_accuracy: 0.5000 - val_loss: nan - val_binary_accuracy: 0.5000\n",
            "Epoch 5/500\n",
            "2/2 [==============================] - 0s 49ms/step - loss: nan - binary_accuracy: 0.5000 - val_loss: nan - val_binary_accuracy: 0.5000\n",
            "Epoch 6/500\n",
            "2/2 [==============================] - 0s 76ms/step - loss: nan - binary_accuracy: 0.5000 - val_loss: nan - val_binary_accuracy: 0.5000\n",
            "Epoch 7/500\n",
            "2/2 [==============================] - 0s 36ms/step - loss: nan - binary_accuracy: 0.5000 - val_loss: nan - val_binary_accuracy: 0.5000\n",
            "Epoch 8/500\n",
            "2/2 [==============================] - 0s 67ms/step - loss: nan - binary_accuracy: 0.5000 - val_loss: nan - val_binary_accuracy: 0.5000\n",
            "Epoch 9/500\n",
            "2/2 [==============================] - 0s 39ms/step - loss: nan - binary_accuracy: 0.5000 - val_loss: nan - val_binary_accuracy: 0.5000\n",
            "Epoch 10/500\n",
            "2/2 [==============================] - 0s 37ms/step - loss: nan - binary_accuracy: 0.5000 - val_loss: nan - val_binary_accuracy: 0.5000\n",
            "Epoch 11/500\n",
            "2/2 [==============================] - 0s 46ms/step - loss: nan - binary_accuracy: 0.5000 - val_loss: nan - val_binary_accuracy: 0.5000\n",
            "Epoch 12/500\n",
            "2/2 [==============================] - 0s 37ms/step - loss: nan - binary_accuracy: 0.5000 - val_loss: nan - val_binary_accuracy: 0.5000\n",
            "Epoch 13/500\n",
            "2/2 [==============================] - 0s 45ms/step - loss: nan - binary_accuracy: 0.5000 - val_loss: nan - val_binary_accuracy: 0.5000\n",
            "Epoch 14/500\n",
            "2/2 [==============================] - 0s 46ms/step - loss: nan - binary_accuracy: 0.5000 - val_loss: nan - val_binary_accuracy: 0.5000\n",
            "Epoch 15/500\n",
            "2/2 [==============================] - 0s 48ms/step - loss: nan - binary_accuracy: 0.5000 - val_loss: nan - val_binary_accuracy: 0.5000\n",
            "Epoch 16/500\n",
            "2/2 [==============================] - 0s 42ms/step - loss: nan - binary_accuracy: 0.5000 - val_loss: nan - val_binary_accuracy: 0.5000\n",
            "Epoch 17/500\n",
            "2/2 [==============================] - 0s 50ms/step - loss: nan - binary_accuracy: 0.5000 - val_loss: nan - val_binary_accuracy: 0.5000\n",
            "Epoch 18/500\n",
            "2/2 [==============================] - 0s 53ms/step - loss: nan - binary_accuracy: 0.5000 - val_loss: nan - val_binary_accuracy: 0.5000\n",
            "Epoch 19/500\n",
            "2/2 [==============================] - 0s 52ms/step - loss: nan - binary_accuracy: 0.5000 - val_loss: nan - val_binary_accuracy: 0.5000\n",
            "Epoch 20/500\n",
            "2/2 [==============================] - 0s 44ms/step - loss: nan - binary_accuracy: 0.5000 - val_loss: nan - val_binary_accuracy: 0.5000\n",
            "Epoch 21/500\n",
            "2/2 [==============================] - 0s 38ms/step - loss: nan - binary_accuracy: 0.5000 - val_loss: nan - val_binary_accuracy: 0.5000\n",
            "Epoch 22/500\n",
            "2/2 [==============================] - 0s 41ms/step - loss: nan - binary_accuracy: 0.5000 - val_loss: nan - val_binary_accuracy: 0.5000\n",
            "Epoch 23/500\n",
            "2/2 [==============================] - 0s 43ms/step - loss: nan - binary_accuracy: 0.5000 - val_loss: nan - val_binary_accuracy: 0.5000\n",
            "Epoch 24/500\n",
            "2/2 [==============================] - 0s 41ms/step - loss: nan - binary_accuracy: 0.5000 - val_loss: nan - val_binary_accuracy: 0.5000\n",
            "Epoch 25/500\n",
            "2/2 [==============================] - 0s 54ms/step - loss: nan - binary_accuracy: 0.5000 - val_loss: nan - val_binary_accuracy: 0.5000\n",
            "Epoch 26/500\n",
            "2/2 [==============================] - 0s 46ms/step - loss: nan - binary_accuracy: 0.5000 - val_loss: nan - val_binary_accuracy: 0.5000\n",
            "Epoch 27/500\n",
            "2/2 [==============================] - 0s 58ms/step - loss: nan - binary_accuracy: 0.5000 - val_loss: nan - val_binary_accuracy: 0.5000\n",
            "Epoch 28/500\n",
            "2/2 [==============================] - 0s 55ms/step - loss: nan - binary_accuracy: 0.5000 - val_loss: nan - val_binary_accuracy: 0.5000\n",
            "Epoch 29/500\n",
            "2/2 [==============================] - 0s 39ms/step - loss: nan - binary_accuracy: 0.5000 - val_loss: nan - val_binary_accuracy: 0.5000\n",
            "Epoch 30/500\n",
            "2/2 [==============================] - 0s 43ms/step - loss: nan - binary_accuracy: 0.5000 - val_loss: nan - val_binary_accuracy: 0.5000\n",
            "Epoch 31/500\n",
            "2/2 [==============================] - 0s 40ms/step - loss: nan - binary_accuracy: 0.5000 - val_loss: nan - val_binary_accuracy: 0.5000\n",
            "Epoch 32/500\n",
            "2/2 [==============================] - 0s 40ms/step - loss: nan - binary_accuracy: 0.5000 - val_loss: nan - val_binary_accuracy: 0.5000\n",
            "Epoch 33/500\n",
            "2/2 [==============================] - 0s 72ms/step - loss: nan - binary_accuracy: 0.5000 - val_loss: nan - val_binary_accuracy: 0.5000\n",
            "Epoch 34/500\n",
            "2/2 [==============================] - 0s 40ms/step - loss: nan - binary_accuracy: 0.5000 - val_loss: nan - val_binary_accuracy: 0.5000\n",
            "Epoch 35/500\n",
            "2/2 [==============================] - 0s 38ms/step - loss: nan - binary_accuracy: 0.5000 - val_loss: nan - val_binary_accuracy: 0.5000\n",
            "Epoch 36/500\n",
            "2/2 [==============================] - 0s 43ms/step - loss: nan - binary_accuracy: 0.5000 - val_loss: nan - val_binary_accuracy: 0.5000\n",
            "Epoch 37/500\n",
            "2/2 [==============================] - 0s 43ms/step - loss: nan - binary_accuracy: 0.5000 - val_loss: nan - val_binary_accuracy: 0.5000\n",
            "Epoch 38/500\n",
            "2/2 [==============================] - 0s 42ms/step - loss: nan - binary_accuracy: 0.5000 - val_loss: nan - val_binary_accuracy: 0.5000\n",
            "Epoch 39/500\n",
            "2/2 [==============================] - 0s 44ms/step - loss: nan - binary_accuracy: 0.5000 - val_loss: nan - val_binary_accuracy: 0.5000\n",
            "Epoch 40/500\n",
            "2/2 [==============================] - 0s 41ms/step - loss: nan - binary_accuracy: 0.5000 - val_loss: nan - val_binary_accuracy: 0.5000\n",
            "Epoch 41/500\n",
            "2/2 [==============================] - 0s 55ms/step - loss: nan - binary_accuracy: 0.5000 - val_loss: nan - val_binary_accuracy: 0.5000\n",
            "Epoch 42/500\n",
            "2/2 [==============================] - 0s 75ms/step - loss: nan - binary_accuracy: 0.5000 - val_loss: nan - val_binary_accuracy: 0.5000\n",
            "Epoch 43/500\n",
            "2/2 [==============================] - 0s 47ms/step - loss: nan - binary_accuracy: 0.5000 - val_loss: nan - val_binary_accuracy: 0.5000\n",
            "Epoch 44/500\n",
            "2/2 [==============================] - 0s 47ms/step - loss: nan - binary_accuracy: 0.5000 - val_loss: nan - val_binary_accuracy: 0.5000\n",
            "Epoch 45/500\n",
            "2/2 [==============================] - 0s 40ms/step - loss: nan - binary_accuracy: 0.5000 - val_loss: nan - val_binary_accuracy: 0.5000\n",
            "Epoch 46/500\n",
            "2/2 [==============================] - 0s 43ms/step - loss: nan - binary_accuracy: 0.5000 - val_loss: nan - val_binary_accuracy: 0.5000\n",
            "Epoch 47/500\n",
            "2/2 [==============================] - 0s 41ms/step - loss: nan - binary_accuracy: 0.5000 - val_loss: nan - val_binary_accuracy: 0.5000\n",
            "Epoch 48/500\n",
            "2/2 [==============================] - 0s 48ms/step - loss: nan - binary_accuracy: 0.5000 - val_loss: nan - val_binary_accuracy: 0.5000\n",
            "Epoch 49/500\n",
            "2/2 [==============================] - 0s 42ms/step - loss: nan - binary_accuracy: 0.5000 - val_loss: nan - val_binary_accuracy: 0.5000\n",
            "Epoch 50/500\n",
            "2/2 [==============================] - 0s 41ms/step - loss: nan - binary_accuracy: 0.5000 - val_loss: nan - val_binary_accuracy: 0.5000\n",
            "Epoch 51/500\n",
            "2/2 [==============================] - 0s 46ms/step - loss: nan - binary_accuracy: 0.5000 - val_loss: nan - val_binary_accuracy: 0.5000\n",
            "Epoch 52/500\n",
            "2/2 [==============================] - 0s 41ms/step - loss: nan - binary_accuracy: 0.5000 - val_loss: nan - val_binary_accuracy: 0.5000\n",
            "Epoch 53/500\n",
            "2/2 [==============================] - 0s 44ms/step - loss: nan - binary_accuracy: 0.5000 - val_loss: nan - val_binary_accuracy: 0.5000\n",
            "Epoch 54/500\n",
            "2/2 [==============================] - 0s 45ms/step - loss: nan - binary_accuracy: 0.5000 - val_loss: nan - val_binary_accuracy: 0.5000\n",
            "Epoch 55/500\n",
            "2/2 [==============================] - 0s 47ms/step - loss: nan - binary_accuracy: 0.5000 - val_loss: nan - val_binary_accuracy: 0.5000\n",
            "Epoch 56/500\n",
            "2/2 [==============================] - 0s 49ms/step - loss: nan - binary_accuracy: 0.5000 - val_loss: nan - val_binary_accuracy: 0.5000\n",
            "Epoch 57/500\n",
            "2/2 [==============================] - 0s 49ms/step - loss: nan - binary_accuracy: 0.5000 - val_loss: nan - val_binary_accuracy: 0.5000\n",
            "Epoch 58/500\n",
            "2/2 [==============================] - 0s 50ms/step - loss: nan - binary_accuracy: 0.5000 - val_loss: nan - val_binary_accuracy: 0.5000\n",
            "Epoch 59/500\n",
            "2/2 [==============================] - 0s 51ms/step - loss: nan - binary_accuracy: 0.5000 - val_loss: nan - val_binary_accuracy: 0.5000\n",
            "Epoch 60/500\n",
            "2/2 [==============================] - 0s 42ms/step - loss: nan - binary_accuracy: 0.5000 - val_loss: nan - val_binary_accuracy: 0.5000\n",
            "Epoch 61/500\n",
            "2/2 [==============================] - 0s 49ms/step - loss: nan - binary_accuracy: 0.5000 - val_loss: nan - val_binary_accuracy: 0.5000\n",
            "Epoch 62/500\n",
            "2/2 [==============================] - 0s 58ms/step - loss: nan - binary_accuracy: 0.5000 - val_loss: nan - val_binary_accuracy: 0.5000\n",
            "Epoch 63/500\n",
            "2/2 [==============================] - 0s 44ms/step - loss: nan - binary_accuracy: 0.5000 - val_loss: nan - val_binary_accuracy: 0.5000\n",
            "Epoch 64/500\n",
            "2/2 [==============================] - 0s 46ms/step - loss: nan - binary_accuracy: 0.5000 - val_loss: nan - val_binary_accuracy: 0.5000\n",
            "Epoch 65/500\n",
            "2/2 [==============================] - 0s 43ms/step - loss: nan - binary_accuracy: 0.5000 - val_loss: nan - val_binary_accuracy: 0.5000\n",
            "Epoch 66/500\n",
            "2/2 [==============================] - 0s 45ms/step - loss: nan - binary_accuracy: 0.5000 - val_loss: nan - val_binary_accuracy: 0.5000\n",
            "Epoch 67/500\n",
            "2/2 [==============================] - 0s 50ms/step - loss: nan - binary_accuracy: 0.5000 - val_loss: nan - val_binary_accuracy: 0.5000\n",
            "Epoch 68/500\n",
            "2/2 [==============================] - 0s 43ms/step - loss: nan - binary_accuracy: 0.5000 - val_loss: nan - val_binary_accuracy: 0.5000\n",
            "Epoch 69/500\n",
            "2/2 [==============================] - 0s 50ms/step - loss: nan - binary_accuracy: 0.5000 - val_loss: nan - val_binary_accuracy: 0.5000\n",
            "Epoch 70/500\n",
            "2/2 [==============================] - 0s 38ms/step - loss: nan - binary_accuracy: 0.5000 - val_loss: nan - val_binary_accuracy: 0.5000\n",
            "Epoch 71/500\n",
            "2/2 [==============================] - 0s 53ms/step - loss: nan - binary_accuracy: 0.5000 - val_loss: nan - val_binary_accuracy: 0.5000\n",
            "Epoch 72/500\n",
            "2/2 [==============================] - 0s 41ms/step - loss: nan - binary_accuracy: 0.5000 - val_loss: nan - val_binary_accuracy: 0.5000\n",
            "Epoch 73/500\n",
            "2/2 [==============================] - 0s 44ms/step - loss: nan - binary_accuracy: 0.5000 - val_loss: nan - val_binary_accuracy: 0.5000\n",
            "Epoch 74/500\n",
            "2/2 [==============================] - 0s 45ms/step - loss: nan - binary_accuracy: 0.5000 - val_loss: nan - val_binary_accuracy: 0.5000\n",
            "Epoch 75/500\n",
            "2/2 [==============================] - 0s 89ms/step - loss: nan - binary_accuracy: 0.5000 - val_loss: nan - val_binary_accuracy: 0.5000\n",
            "Epoch 76/500\n",
            "2/2 [==============================] - 0s 121ms/step - loss: nan - binary_accuracy: 0.5000 - val_loss: nan - val_binary_accuracy: 0.5000\n",
            "Epoch 77/500\n",
            "2/2 [==============================] - 0s 118ms/step - loss: nan - binary_accuracy: 0.5000 - val_loss: nan - val_binary_accuracy: 0.5000\n",
            "Epoch 78/500\n",
            "2/2 [==============================] - 0s 126ms/step - loss: nan - binary_accuracy: 0.5000 - val_loss: nan - val_binary_accuracy: 0.5000\n",
            "Epoch 79/500\n",
            "2/2 [==============================] - 0s 111ms/step - loss: nan - binary_accuracy: 0.5000 - val_loss: nan - val_binary_accuracy: 0.5000\n",
            "Epoch 80/500\n",
            "2/2 [==============================] - 0s 115ms/step - loss: nan - binary_accuracy: 0.5000 - val_loss: nan - val_binary_accuracy: 0.5000\n",
            "Epoch 81/500\n",
            "2/2 [==============================] - 0s 72ms/step - loss: nan - binary_accuracy: 0.5000 - val_loss: nan - val_binary_accuracy: 0.5000\n",
            "Epoch 82/500\n",
            "2/2 [==============================] - 0s 80ms/step - loss: nan - binary_accuracy: 0.5000 - val_loss: nan - val_binary_accuracy: 0.5000\n",
            "Epoch 83/500\n",
            "2/2 [==============================] - 0s 27ms/step - loss: nan - binary_accuracy: 0.5000 - val_loss: nan - val_binary_accuracy: 0.5000\n",
            "Epoch 84/500\n",
            "2/2 [==============================] - 0s 32ms/step - loss: nan - binary_accuracy: 0.5000 - val_loss: nan - val_binary_accuracy: 0.5000\n",
            "Epoch 85/500\n",
            "2/2 [==============================] - 0s 26ms/step - loss: nan - binary_accuracy: 0.5000 - val_loss: nan - val_binary_accuracy: 0.5000\n",
            "Epoch 86/500\n",
            "2/2 [==============================] - 0s 31ms/step - loss: nan - binary_accuracy: 0.5000 - val_loss: nan - val_binary_accuracy: 0.5000\n",
            "Epoch 87/500\n",
            "2/2 [==============================] - 0s 31ms/step - loss: nan - binary_accuracy: 0.5000 - val_loss: nan - val_binary_accuracy: 0.5000\n",
            "Epoch 88/500\n",
            "2/2 [==============================] - 0s 27ms/step - loss: nan - binary_accuracy: 0.5000 - val_loss: nan - val_binary_accuracy: 0.5000\n",
            "Epoch 89/500\n",
            "2/2 [==============================] - 0s 27ms/step - loss: nan - binary_accuracy: 0.5000 - val_loss: nan - val_binary_accuracy: 0.5000\n",
            "Epoch 90/500\n",
            "2/2 [==============================] - 0s 28ms/step - loss: nan - binary_accuracy: 0.5000 - val_loss: nan - val_binary_accuracy: 0.5000\n",
            "Epoch 91/500\n",
            "2/2 [==============================] - 0s 29ms/step - loss: nan - binary_accuracy: 0.5000 - val_loss: nan - val_binary_accuracy: 0.5000\n",
            "Epoch 92/500\n",
            "2/2 [==============================] - 0s 26ms/step - loss: nan - binary_accuracy: 0.5000 - val_loss: nan - val_binary_accuracy: 0.5000\n",
            "Epoch 93/500\n",
            "2/2 [==============================] - 0s 46ms/step - loss: nan - binary_accuracy: 0.5000 - val_loss: nan - val_binary_accuracy: 0.5000\n",
            "Epoch 94/500\n",
            "2/2 [==============================] - 0s 29ms/step - loss: nan - binary_accuracy: 0.5000 - val_loss: nan - val_binary_accuracy: 0.5000\n",
            "Epoch 95/500\n",
            "2/2 [==============================] - 0s 26ms/step - loss: nan - binary_accuracy: 0.5000 - val_loss: nan - val_binary_accuracy: 0.5000\n",
            "Epoch 96/500\n",
            "2/2 [==============================] - 0s 27ms/step - loss: nan - binary_accuracy: 0.5000 - val_loss: nan - val_binary_accuracy: 0.5000\n",
            "Epoch 97/500\n",
            "2/2 [==============================] - 0s 30ms/step - loss: nan - binary_accuracy: 0.5000 - val_loss: nan - val_binary_accuracy: 0.5000\n",
            "Epoch 98/500\n",
            "2/2 [==============================] - 0s 26ms/step - loss: nan - binary_accuracy: 0.5000 - val_loss: nan - val_binary_accuracy: 0.5000\n",
            "Epoch 99/500\n",
            "2/2 [==============================] - 0s 29ms/step - loss: nan - binary_accuracy: 0.5000 - val_loss: nan - val_binary_accuracy: 0.5000\n",
            "Epoch 100/500\n",
            "2/2 [==============================] - 0s 26ms/step - loss: nan - binary_accuracy: 0.5000 - val_loss: nan - val_binary_accuracy: 0.5000\n",
            "Epoch 101/500\n",
            "2/2 [==============================] - 0s 29ms/step - loss: nan - binary_accuracy: 0.5000 - val_loss: nan - val_binary_accuracy: 0.5000\n",
            "Epoch 102/500\n",
            "2/2 [==============================] - 0s 32ms/step - loss: nan - binary_accuracy: 0.5000 - val_loss: nan - val_binary_accuracy: 0.5000\n",
            "Epoch 103/500\n",
            "2/2 [==============================] - 0s 35ms/step - loss: nan - binary_accuracy: 0.5000 - val_loss: nan - val_binary_accuracy: 0.5000\n",
            "Epoch 104/500\n",
            "2/2 [==============================] - 0s 28ms/step - loss: nan - binary_accuracy: 0.5000 - val_loss: nan - val_binary_accuracy: 0.5000\n",
            "Epoch 105/500\n",
            "2/2 [==============================] - 0s 27ms/step - loss: nan - binary_accuracy: 0.5000 - val_loss: nan - val_binary_accuracy: 0.5000\n",
            "Epoch 106/500\n",
            "2/2 [==============================] - 0s 31ms/step - loss: nan - binary_accuracy: 0.5000 - val_loss: nan - val_binary_accuracy: 0.5000\n",
            "Epoch 107/500\n",
            "2/2 [==============================] - 0s 26ms/step - loss: nan - binary_accuracy: 0.5000 - val_loss: nan - val_binary_accuracy: 0.5000\n",
            "Epoch 108/500\n",
            "2/2 [==============================] - 0s 30ms/step - loss: nan - binary_accuracy: 0.5000 - val_loss: nan - val_binary_accuracy: 0.5000\n",
            "Epoch 109/500\n",
            "2/2 [==============================] - 0s 37ms/step - loss: nan - binary_accuracy: 0.5000 - val_loss: nan - val_binary_accuracy: 0.5000\n",
            "Epoch 110/500\n",
            "2/2 [==============================] - 0s 33ms/step - loss: nan - binary_accuracy: 0.5000 - val_loss: nan - val_binary_accuracy: 0.5000\n",
            "Epoch 111/500\n",
            "2/2 [==============================] - 0s 27ms/step - loss: nan - binary_accuracy: 0.5000 - val_loss: nan - val_binary_accuracy: 0.5000\n",
            "Epoch 112/500\n",
            "2/2 [==============================] - 0s 27ms/step - loss: nan - binary_accuracy: 0.5000 - val_loss: nan - val_binary_accuracy: 0.5000\n",
            "Epoch 113/500\n",
            "2/2 [==============================] - 0s 28ms/step - loss: nan - binary_accuracy: 0.5000 - val_loss: nan - val_binary_accuracy: 0.5000\n",
            "Epoch 114/500\n",
            "2/2 [==============================] - 0s 24ms/step - loss: nan - binary_accuracy: 0.5000 - val_loss: nan - val_binary_accuracy: 0.5000\n",
            "Epoch 115/500\n",
            "2/2 [==============================] - 0s 27ms/step - loss: nan - binary_accuracy: 0.5000 - val_loss: nan - val_binary_accuracy: 0.5000\n",
            "Epoch 116/500\n",
            "2/2 [==============================] - 0s 25ms/step - loss: nan - binary_accuracy: 0.5000 - val_loss: nan - val_binary_accuracy: 0.5000\n",
            "Epoch 117/500\n",
            "2/2 [==============================] - 0s 27ms/step - loss: nan - binary_accuracy: 0.5000 - val_loss: nan - val_binary_accuracy: 0.5000\n",
            "Epoch 118/500\n",
            "2/2 [==============================] - 0s 25ms/step - loss: nan - binary_accuracy: 0.5000 - val_loss: nan - val_binary_accuracy: 0.5000\n",
            "Epoch 119/500\n",
            "2/2 [==============================] - 0s 27ms/step - loss: nan - binary_accuracy: 0.5000 - val_loss: nan - val_binary_accuracy: 0.5000\n",
            "Epoch 120/500\n",
            "2/2 [==============================] - 0s 28ms/step - loss: nan - binary_accuracy: 0.5000 - val_loss: nan - val_binary_accuracy: 0.5000\n",
            "Epoch 121/500\n",
            "2/2 [==============================] - 0s 28ms/step - loss: nan - binary_accuracy: 0.5000 - val_loss: nan - val_binary_accuracy: 0.5000\n",
            "Epoch 122/500\n",
            "2/2 [==============================] - 0s 28ms/step - loss: nan - binary_accuracy: 0.5000 - val_loss: nan - val_binary_accuracy: 0.5000\n",
            "Epoch 123/500\n",
            "2/2 [==============================] - 0s 26ms/step - loss: nan - binary_accuracy: 0.5000 - val_loss: nan - val_binary_accuracy: 0.5000\n",
            "Epoch 124/500\n",
            "2/2 [==============================] - 0s 26ms/step - loss: nan - binary_accuracy: 0.5000 - val_loss: nan - val_binary_accuracy: 0.5000\n",
            "Epoch 125/500\n",
            "2/2 [==============================] - 0s 27ms/step - loss: nan - binary_accuracy: 0.5000 - val_loss: nan - val_binary_accuracy: 0.5000\n",
            "Epoch 126/500\n",
            "2/2 [==============================] - 0s 33ms/step - loss: nan - binary_accuracy: 0.5000 - val_loss: nan - val_binary_accuracy: 0.5000\n",
            "Epoch 127/500\n",
            "2/2 [==============================] - 0s 26ms/step - loss: nan - binary_accuracy: 0.5000 - val_loss: nan - val_binary_accuracy: 0.5000\n",
            "Epoch 128/500\n",
            "2/2 [==============================] - 0s 48ms/step - loss: nan - binary_accuracy: 0.5000 - val_loss: nan - val_binary_accuracy: 0.5000\n",
            "Epoch 129/500\n",
            "2/2 [==============================] - 0s 35ms/step - loss: nan - binary_accuracy: 0.5000 - val_loss: nan - val_binary_accuracy: 0.5000\n",
            "Epoch 130/500\n",
            "2/2 [==============================] - 0s 27ms/step - loss: nan - binary_accuracy: 0.5000 - val_loss: nan - val_binary_accuracy: 0.5000\n",
            "Epoch 131/500\n",
            "2/2 [==============================] - 0s 26ms/step - loss: nan - binary_accuracy: 0.5000 - val_loss: nan - val_binary_accuracy: 0.5000\n",
            "Epoch 132/500\n",
            "2/2 [==============================] - 0s 26ms/step - loss: nan - binary_accuracy: 0.5000 - val_loss: nan - val_binary_accuracy: 0.5000\n",
            "Epoch 133/500\n",
            "2/2 [==============================] - 0s 28ms/step - loss: nan - binary_accuracy: 0.5000 - val_loss: nan - val_binary_accuracy: 0.5000\n",
            "Epoch 134/500\n",
            "2/2 [==============================] - 0s 37ms/step - loss: nan - binary_accuracy: 0.5000 - val_loss: nan - val_binary_accuracy: 0.5000\n",
            "Epoch 135/500\n",
            "2/2 [==============================] - 0s 38ms/step - loss: nan - binary_accuracy: 0.5000 - val_loss: nan - val_binary_accuracy: 0.5000\n",
            "Epoch 136/500\n",
            "2/2 [==============================] - 0s 29ms/step - loss: nan - binary_accuracy: 0.5000 - val_loss: nan - val_binary_accuracy: 0.5000\n",
            "Epoch 137/500\n",
            "2/2 [==============================] - 0s 28ms/step - loss: nan - binary_accuracy: 0.5000 - val_loss: nan - val_binary_accuracy: 0.5000\n",
            "Epoch 138/500\n",
            "2/2 [==============================] - 0s 27ms/step - loss: nan - binary_accuracy: 0.5000 - val_loss: nan - val_binary_accuracy: 0.5000\n",
            "Epoch 139/500\n",
            "2/2 [==============================] - 0s 28ms/step - loss: nan - binary_accuracy: 0.5000 - val_loss: nan - val_binary_accuracy: 0.5000\n",
            "Epoch 140/500\n",
            "2/2 [==============================] - 0s 27ms/step - loss: nan - binary_accuracy: 0.5000 - val_loss: nan - val_binary_accuracy: 0.5000\n",
            "Epoch 141/500\n",
            "2/2 [==============================] - 0s 27ms/step - loss: nan - binary_accuracy: 0.5000 - val_loss: nan - val_binary_accuracy: 0.5000\n",
            "Epoch 142/500\n",
            "2/2 [==============================] - 0s 31ms/step - loss: nan - binary_accuracy: 0.5000 - val_loss: nan - val_binary_accuracy: 0.5000\n",
            "Epoch 143/500\n",
            "2/2 [==============================] - 0s 28ms/step - loss: nan - binary_accuracy: 0.5000 - val_loss: nan - val_binary_accuracy: 0.5000\n",
            "Epoch 144/500\n",
            "2/2 [==============================] - 0s 32ms/step - loss: nan - binary_accuracy: 0.5000 - val_loss: nan - val_binary_accuracy: 0.5000\n",
            "Epoch 145/500\n",
            "2/2 [==============================] - 0s 27ms/step - loss: nan - binary_accuracy: 0.5000 - val_loss: nan - val_binary_accuracy: 0.5000\n",
            "Epoch 146/500\n",
            "2/2 [==============================] - 0s 27ms/step - loss: nan - binary_accuracy: 0.5000 - val_loss: nan - val_binary_accuracy: 0.5000\n",
            "Epoch 147/500\n",
            "2/2 [==============================] - 0s 27ms/step - loss: nan - binary_accuracy: 0.5000 - val_loss: nan - val_binary_accuracy: 0.5000\n",
            "Epoch 148/500\n",
            "2/2 [==============================] - 0s 31ms/step - loss: nan - binary_accuracy: 0.5000 - val_loss: nan - val_binary_accuracy: 0.5000\n",
            "Epoch 149/500\n",
            "2/2 [==============================] - 0s 34ms/step - loss: nan - binary_accuracy: 0.5000 - val_loss: nan - val_binary_accuracy: 0.5000\n",
            "Epoch 150/500\n",
            "2/2 [==============================] - 0s 33ms/step - loss: nan - binary_accuracy: 0.5000 - val_loss: nan - val_binary_accuracy: 0.5000\n",
            "Epoch 151/500\n",
            "2/2 [==============================] - 0s 33ms/step - loss: nan - binary_accuracy: 0.5000 - val_loss: nan - val_binary_accuracy: 0.5000\n",
            "Epoch 152/500\n",
            "2/2 [==============================] - 0s 28ms/step - loss: nan - binary_accuracy: 0.5000 - val_loss: nan - val_binary_accuracy: 0.5000\n",
            "Epoch 153/500\n",
            "2/2 [==============================] - 0s 28ms/step - loss: nan - binary_accuracy: 0.5000 - val_loss: nan - val_binary_accuracy: 0.5000\n",
            "Epoch 154/500\n",
            "2/2 [==============================] - 0s 28ms/step - loss: nan - binary_accuracy: 0.5000 - val_loss: nan - val_binary_accuracy: 0.5000\n",
            "Epoch 155/500\n",
            "2/2 [==============================] - 0s 25ms/step - loss: nan - binary_accuracy: 0.5000 - val_loss: nan - val_binary_accuracy: 0.5000\n",
            "Epoch 156/500\n",
            "2/2 [==============================] - 0s 26ms/step - loss: nan - binary_accuracy: 0.5000 - val_loss: nan - val_binary_accuracy: 0.5000\n",
            "Epoch 157/500\n",
            "2/2 [==============================] - 0s 27ms/step - loss: nan - binary_accuracy: 0.5000 - val_loss: nan - val_binary_accuracy: 0.5000\n",
            "Epoch 158/500\n",
            "2/2 [==============================] - 0s 30ms/step - loss: nan - binary_accuracy: 0.5000 - val_loss: nan - val_binary_accuracy: 0.5000\n",
            "Epoch 159/500\n",
            "2/2 [==============================] - 0s 27ms/step - loss: nan - binary_accuracy: 0.5000 - val_loss: nan - val_binary_accuracy: 0.5000\n",
            "Epoch 160/500\n",
            "2/2 [==============================] - 0s 37ms/step - loss: nan - binary_accuracy: 0.5000 - val_loss: nan - val_binary_accuracy: 0.5000\n",
            "Epoch 161/500\n",
            "2/2 [==============================] - 0s 46ms/step - loss: nan - binary_accuracy: 0.5000 - val_loss: nan - val_binary_accuracy: 0.5000\n",
            "Epoch 162/500\n",
            "2/2 [==============================] - 0s 27ms/step - loss: nan - binary_accuracy: 0.5000 - val_loss: nan - val_binary_accuracy: 0.5000\n",
            "Epoch 163/500\n",
            "2/2 [==============================] - 0s 26ms/step - loss: nan - binary_accuracy: 0.5000 - val_loss: nan - val_binary_accuracy: 0.5000\n",
            "Epoch 164/500\n",
            "2/2 [==============================] - 0s 26ms/step - loss: nan - binary_accuracy: 0.5000 - val_loss: nan - val_binary_accuracy: 0.5000\n",
            "Epoch 165/500\n",
            "2/2 [==============================] - 0s 31ms/step - loss: nan - binary_accuracy: 0.5000 - val_loss: nan - val_binary_accuracy: 0.5000\n",
            "Epoch 166/500\n",
            "2/2 [==============================] - 0s 31ms/step - loss: nan - binary_accuracy: 0.5000 - val_loss: nan - val_binary_accuracy: 0.5000\n",
            "Epoch 167/500\n",
            "2/2 [==============================] - 0s 29ms/step - loss: nan - binary_accuracy: 0.5000 - val_loss: nan - val_binary_accuracy: 0.5000\n",
            "Epoch 168/500\n",
            "2/2 [==============================] - 0s 32ms/step - loss: nan - binary_accuracy: 0.5000 - val_loss: nan - val_binary_accuracy: 0.5000\n",
            "Epoch 169/500\n",
            "2/2 [==============================] - 0s 29ms/step - loss: nan - binary_accuracy: 0.5000 - val_loss: nan - val_binary_accuracy: 0.5000\n",
            "Epoch 170/500\n",
            "2/2 [==============================] - 0s 28ms/step - loss: nan - binary_accuracy: 0.5000 - val_loss: nan - val_binary_accuracy: 0.5000\n",
            "Epoch 171/500\n",
            "2/2 [==============================] - 0s 28ms/step - loss: nan - binary_accuracy: 0.5000 - val_loss: nan - val_binary_accuracy: 0.5000\n",
            "Epoch 172/500\n",
            "2/2 [==============================] - 0s 26ms/step - loss: nan - binary_accuracy: 0.5000 - val_loss: nan - val_binary_accuracy: 0.5000\n",
            "Epoch 173/500\n",
            "2/2 [==============================] - 0s 28ms/step - loss: nan - binary_accuracy: 0.5000 - val_loss: nan - val_binary_accuracy: 0.5000\n",
            "Epoch 174/500\n",
            "2/2 [==============================] - 0s 29ms/step - loss: nan - binary_accuracy: 0.5000 - val_loss: nan - val_binary_accuracy: 0.5000\n",
            "Epoch 175/500\n",
            "2/2 [==============================] - 0s 40ms/step - loss: nan - binary_accuracy: 0.5000 - val_loss: nan - val_binary_accuracy: 0.5000\n",
            "Epoch 176/500\n",
            "2/2 [==============================] - 0s 30ms/step - loss: nan - binary_accuracy: 0.5000 - val_loss: nan - val_binary_accuracy: 0.5000\n",
            "Epoch 177/500\n",
            "2/2 [==============================] - 0s 32ms/step - loss: nan - binary_accuracy: 0.5000 - val_loss: nan - val_binary_accuracy: 0.5000\n",
            "Epoch 178/500\n",
            "2/2 [==============================] - 0s 32ms/step - loss: nan - binary_accuracy: 0.5000 - val_loss: nan - val_binary_accuracy: 0.5000\n",
            "Epoch 179/500\n",
            "2/2 [==============================] - 0s 32ms/step - loss: nan - binary_accuracy: 0.5000 - val_loss: nan - val_binary_accuracy: 0.5000\n",
            "Epoch 180/500\n",
            "2/2 [==============================] - 0s 32ms/step - loss: nan - binary_accuracy: 0.5000 - val_loss: nan - val_binary_accuracy: 0.5000\n",
            "Epoch 181/500\n",
            "2/2 [==============================] - 0s 29ms/step - loss: nan - binary_accuracy: 0.5000 - val_loss: nan - val_binary_accuracy: 0.5000\n",
            "Epoch 182/500\n",
            "2/2 [==============================] - 0s 34ms/step - loss: nan - binary_accuracy: 0.5000 - val_loss: nan - val_binary_accuracy: 0.5000\n",
            "Epoch 183/500\n",
            "2/2 [==============================] - 0s 32ms/step - loss: nan - binary_accuracy: 0.5000 - val_loss: nan - val_binary_accuracy: 0.5000\n",
            "Epoch 184/500\n",
            "2/2 [==============================] - 0s 42ms/step - loss: nan - binary_accuracy: 0.5000 - val_loss: nan - val_binary_accuracy: 0.5000\n",
            "Epoch 185/500\n",
            "2/2 [==============================] - 0s 42ms/step - loss: nan - binary_accuracy: 0.5000 - val_loss: nan - val_binary_accuracy: 0.5000\n",
            "Epoch 186/500\n",
            "2/2 [==============================] - 0s 44ms/step - loss: nan - binary_accuracy: 0.5000 - val_loss: nan - val_binary_accuracy: 0.5000\n",
            "Epoch 187/500\n",
            "2/2 [==============================] - 0s 34ms/step - loss: nan - binary_accuracy: 0.5000 - val_loss: nan - val_binary_accuracy: 0.5000\n",
            "Epoch 188/500\n",
            "2/2 [==============================] - 0s 30ms/step - loss: nan - binary_accuracy: 0.5000 - val_loss: nan - val_binary_accuracy: 0.5000\n",
            "Epoch 189/500\n",
            "2/2 [==============================] - 0s 33ms/step - loss: nan - binary_accuracy: 0.5000 - val_loss: nan - val_binary_accuracy: 0.5000\n",
            "Epoch 190/500\n",
            "2/2 [==============================] - 0s 28ms/step - loss: nan - binary_accuracy: 0.5000 - val_loss: nan - val_binary_accuracy: 0.5000\n",
            "Epoch 191/500\n",
            "2/2 [==============================] - 0s 30ms/step - loss: nan - binary_accuracy: 0.5000 - val_loss: nan - val_binary_accuracy: 0.5000\n",
            "Epoch 192/500\n",
            "2/2 [==============================] - 0s 29ms/step - loss: nan - binary_accuracy: 0.5000 - val_loss: nan - val_binary_accuracy: 0.5000\n",
            "Epoch 193/500\n",
            "2/2 [==============================] - 0s 35ms/step - loss: nan - binary_accuracy: 0.5000 - val_loss: nan - val_binary_accuracy: 0.5000\n",
            "Epoch 194/500\n",
            "2/2 [==============================] - 0s 26ms/step - loss: nan - binary_accuracy: 0.5000 - val_loss: nan - val_binary_accuracy: 0.5000\n",
            "Epoch 195/500\n",
            "2/2 [==============================] - 0s 28ms/step - loss: nan - binary_accuracy: 0.5000 - val_loss: nan - val_binary_accuracy: 0.5000\n",
            "Epoch 196/500\n",
            "2/2 [==============================] - 0s 27ms/step - loss: nan - binary_accuracy: 0.5000 - val_loss: nan - val_binary_accuracy: 0.5000\n",
            "Epoch 197/500\n",
            "2/2 [==============================] - 0s 27ms/step - loss: nan - binary_accuracy: 0.5000 - val_loss: nan - val_binary_accuracy: 0.5000\n",
            "Epoch 198/500\n",
            "2/2 [==============================] - 0s 32ms/step - loss: nan - binary_accuracy: 0.5000 - val_loss: nan - val_binary_accuracy: 0.5000\n",
            "Epoch 199/500\n",
            "2/2 [==============================] - 0s 30ms/step - loss: nan - binary_accuracy: 0.5000 - val_loss: nan - val_binary_accuracy: 0.5000\n",
            "Epoch 200/500\n",
            "2/2 [==============================] - 0s 37ms/step - loss: nan - binary_accuracy: 0.5000 - val_loss: nan - val_binary_accuracy: 0.5000\n",
            "Epoch 201/500\n",
            "2/2 [==============================] - 0s 26ms/step - loss: nan - binary_accuracy: 0.5000 - val_loss: nan - val_binary_accuracy: 0.5000\n",
            "Epoch 202/500\n",
            "2/2 [==============================] - 0s 26ms/step - loss: nan - binary_accuracy: 0.5000 - val_loss: nan - val_binary_accuracy: 0.5000\n",
            "Epoch 203/500\n",
            "2/2 [==============================] - 0s 28ms/step - loss: nan - binary_accuracy: 0.5000 - val_loss: nan - val_binary_accuracy: 0.5000\n",
            "Epoch 204/500\n",
            "2/2 [==============================] - 0s 28ms/step - loss: nan - binary_accuracy: 0.5000 - val_loss: nan - val_binary_accuracy: 0.5000\n",
            "Epoch 205/500\n",
            "2/2 [==============================] - 0s 28ms/step - loss: nan - binary_accuracy: 0.5000 - val_loss: nan - val_binary_accuracy: 0.5000\n",
            "Epoch 206/500\n",
            "2/2 [==============================] - 0s 29ms/step - loss: nan - binary_accuracy: 0.5000 - val_loss: nan - val_binary_accuracy: 0.5000\n",
            "Epoch 207/500\n",
            "2/2 [==============================] - 0s 26ms/step - loss: nan - binary_accuracy: 0.5000 - val_loss: nan - val_binary_accuracy: 0.5000\n",
            "Epoch 208/500\n",
            "2/2 [==============================] - 0s 28ms/step - loss: nan - binary_accuracy: 0.5000 - val_loss: nan - val_binary_accuracy: 0.5000\n",
            "Epoch 209/500\n",
            "2/2 [==============================] - 0s 38ms/step - loss: nan - binary_accuracy: 0.5000 - val_loss: nan - val_binary_accuracy: 0.5000\n",
            "Epoch 210/500\n",
            "2/2 [==============================] - 0s 27ms/step - loss: nan - binary_accuracy: 0.5000 - val_loss: nan - val_binary_accuracy: 0.5000\n",
            "Epoch 211/500\n",
            "2/2 [==============================] - 0s 30ms/step - loss: nan - binary_accuracy: 0.5000 - val_loss: nan - val_binary_accuracy: 0.5000\n",
            "Epoch 212/500\n",
            "2/2 [==============================] - 0s 27ms/step - loss: nan - binary_accuracy: 0.5000 - val_loss: nan - val_binary_accuracy: 0.5000\n",
            "Epoch 213/500\n",
            "2/2 [==============================] - 0s 26ms/step - loss: nan - binary_accuracy: 0.5000 - val_loss: nan - val_binary_accuracy: 0.5000\n",
            "Epoch 214/500\n",
            "2/2 [==============================] - 0s 27ms/step - loss: nan - binary_accuracy: 0.5000 - val_loss: nan - val_binary_accuracy: 0.5000\n",
            "Epoch 215/500\n",
            "2/2 [==============================] - 0s 38ms/step - loss: nan - binary_accuracy: 0.5000 - val_loss: nan - val_binary_accuracy: 0.5000\n",
            "Epoch 216/500\n",
            "2/2 [==============================] - 0s 35ms/step - loss: nan - binary_accuracy: 0.5000 - val_loss: nan - val_binary_accuracy: 0.5000\n",
            "Epoch 217/500\n",
            "2/2 [==============================] - 0s 28ms/step - loss: nan - binary_accuracy: 0.5000 - val_loss: nan - val_binary_accuracy: 0.5000\n",
            "Epoch 218/500\n",
            "2/2 [==============================] - 0s 30ms/step - loss: nan - binary_accuracy: 0.5000 - val_loss: nan - val_binary_accuracy: 0.5000\n",
            "Epoch 219/500\n",
            "2/2 [==============================] - 0s 28ms/step - loss: nan - binary_accuracy: 0.5000 - val_loss: nan - val_binary_accuracy: 0.5000\n",
            "Epoch 220/500\n",
            "2/2 [==============================] - 0s 26ms/step - loss: nan - binary_accuracy: 0.5000 - val_loss: nan - val_binary_accuracy: 0.5000\n",
            "Epoch 221/500\n",
            "2/2 [==============================] - 0s 27ms/step - loss: nan - binary_accuracy: 0.5000 - val_loss: nan - val_binary_accuracy: 0.5000\n",
            "Epoch 222/500\n",
            "2/2 [==============================] - 0s 27ms/step - loss: nan - binary_accuracy: 0.5000 - val_loss: nan - val_binary_accuracy: 0.5000\n",
            "Epoch 223/500\n",
            "2/2 [==============================] - 0s 30ms/step - loss: nan - binary_accuracy: 0.5000 - val_loss: nan - val_binary_accuracy: 0.5000\n",
            "Epoch 224/500\n",
            "2/2 [==============================] - 0s 28ms/step - loss: nan - binary_accuracy: 0.5000 - val_loss: nan - val_binary_accuracy: 0.5000\n",
            "Epoch 225/500\n",
            "2/2 [==============================] - 0s 28ms/step - loss: nan - binary_accuracy: 0.5000 - val_loss: nan - val_binary_accuracy: 0.5000\n",
            "Epoch 226/500\n",
            "2/2 [==============================] - 0s 29ms/step - loss: nan - binary_accuracy: 0.5000 - val_loss: nan - val_binary_accuracy: 0.5000\n",
            "Epoch 227/500\n",
            "2/2 [==============================] - 0s 30ms/step - loss: nan - binary_accuracy: 0.5000 - val_loss: nan - val_binary_accuracy: 0.5000\n",
            "Epoch 228/500\n",
            "2/2 [==============================] - 0s 31ms/step - loss: nan - binary_accuracy: 0.5000 - val_loss: nan - val_binary_accuracy: 0.5000\n",
            "Epoch 229/500\n",
            "2/2 [==============================] - 0s 28ms/step - loss: nan - binary_accuracy: 0.5000 - val_loss: nan - val_binary_accuracy: 0.5000\n",
            "Epoch 230/500\n",
            "2/2 [==============================] - 0s 27ms/step - loss: nan - binary_accuracy: 0.5000 - val_loss: nan - val_binary_accuracy: 0.5000\n",
            "Epoch 231/500\n",
            "2/2 [==============================] - 0s 27ms/step - loss: nan - binary_accuracy: 0.5000 - val_loss: nan - val_binary_accuracy: 0.5000\n",
            "Epoch 232/500\n",
            "2/2 [==============================] - 0s 27ms/step - loss: nan - binary_accuracy: 0.5000 - val_loss: nan - val_binary_accuracy: 0.5000\n",
            "Epoch 233/500\n",
            "2/2 [==============================] - 0s 33ms/step - loss: nan - binary_accuracy: 0.5000 - val_loss: nan - val_binary_accuracy: 0.5000\n",
            "Epoch 234/500\n",
            "2/2 [==============================] - 0s 47ms/step - loss: nan - binary_accuracy: 0.5000 - val_loss: nan - val_binary_accuracy: 0.5000\n",
            "Epoch 235/500\n",
            "2/2 [==============================] - 0s 34ms/step - loss: nan - binary_accuracy: 0.5000 - val_loss: nan - val_binary_accuracy: 0.5000\n",
            "Epoch 236/500\n",
            "2/2 [==============================] - 0s 31ms/step - loss: nan - binary_accuracy: 0.5000 - val_loss: nan - val_binary_accuracy: 0.5000\n",
            "Epoch 237/500\n",
            "2/2 [==============================] - 0s 31ms/step - loss: nan - binary_accuracy: 0.5000 - val_loss: nan - val_binary_accuracy: 0.5000\n",
            "Epoch 238/500\n",
            "2/2 [==============================] - 0s 35ms/step - loss: nan - binary_accuracy: 0.5000 - val_loss: nan - val_binary_accuracy: 0.5000\n",
            "Epoch 239/500\n",
            "2/2 [==============================] - 0s 29ms/step - loss: nan - binary_accuracy: 0.5000 - val_loss: nan - val_binary_accuracy: 0.5000\n",
            "Epoch 240/500\n",
            "2/2 [==============================] - 0s 48ms/step - loss: nan - binary_accuracy: 0.5000 - val_loss: nan - val_binary_accuracy: 0.5000\n",
            "Epoch 241/500\n",
            "2/2 [==============================] - 0s 30ms/step - loss: nan - binary_accuracy: 0.5000 - val_loss: nan - val_binary_accuracy: 0.5000\n",
            "Epoch 242/500\n",
            "2/2 [==============================] - 0s 29ms/step - loss: nan - binary_accuracy: 0.5000 - val_loss: nan - val_binary_accuracy: 0.5000\n",
            "Epoch 243/500\n",
            "2/2 [==============================] - 0s 30ms/step - loss: nan - binary_accuracy: 0.5000 - val_loss: nan - val_binary_accuracy: 0.5000\n",
            "Epoch 244/500\n",
            "2/2 [==============================] - 0s 32ms/step - loss: nan - binary_accuracy: 0.5000 - val_loss: nan - val_binary_accuracy: 0.5000\n",
            "Epoch 245/500\n",
            "2/2 [==============================] - 0s 31ms/step - loss: nan - binary_accuracy: 0.5000 - val_loss: nan - val_binary_accuracy: 0.5000\n",
            "Epoch 246/500\n",
            "2/2 [==============================] - 0s 27ms/step - loss: nan - binary_accuracy: 0.5000 - val_loss: nan - val_binary_accuracy: 0.5000\n",
            "Epoch 247/500\n",
            "2/2 [==============================] - 0s 26ms/step - loss: nan - binary_accuracy: 0.5000 - val_loss: nan - val_binary_accuracy: 0.5000\n",
            "Epoch 248/500\n",
            "2/2 [==============================] - 0s 30ms/step - loss: nan - binary_accuracy: 0.5000 - val_loss: nan - val_binary_accuracy: 0.5000\n",
            "Epoch 249/500\n",
            "2/2 [==============================] - 0s 32ms/step - loss: nan - binary_accuracy: 0.5000 - val_loss: nan - val_binary_accuracy: 0.5000\n",
            "Epoch 250/500\n",
            "2/2 [==============================] - 0s 28ms/step - loss: nan - binary_accuracy: 0.5000 - val_loss: nan - val_binary_accuracy: 0.5000\n",
            "Epoch 251/500\n",
            "2/2 [==============================] - 0s 28ms/step - loss: nan - binary_accuracy: 0.5000 - val_loss: nan - val_binary_accuracy: 0.5000\n",
            "Epoch 252/500\n",
            "2/2 [==============================] - 0s 31ms/step - loss: nan - binary_accuracy: 0.5000 - val_loss: nan - val_binary_accuracy: 0.5000\n",
            "Epoch 253/500\n",
            "2/2 [==============================] - 0s 31ms/step - loss: nan - binary_accuracy: 0.5000 - val_loss: nan - val_binary_accuracy: 0.5000\n",
            "Epoch 254/500\n",
            "2/2 [==============================] - 0s 27ms/step - loss: nan - binary_accuracy: 0.5000 - val_loss: nan - val_binary_accuracy: 0.5000\n",
            "Epoch 255/500\n",
            "2/2 [==============================] - 0s 31ms/step - loss: nan - binary_accuracy: 0.5000 - val_loss: nan - val_binary_accuracy: 0.5000\n",
            "Epoch 256/500\n",
            "2/2 [==============================] - 0s 30ms/step - loss: nan - binary_accuracy: 0.5000 - val_loss: nan - val_binary_accuracy: 0.5000\n",
            "Epoch 257/500\n",
            "2/2 [==============================] - 0s 30ms/step - loss: nan - binary_accuracy: 0.5000 - val_loss: nan - val_binary_accuracy: 0.5000\n",
            "Epoch 258/500\n",
            "2/2 [==============================] - 0s 30ms/step - loss: nan - binary_accuracy: 0.5000 - val_loss: nan - val_binary_accuracy: 0.5000\n",
            "Epoch 259/500\n",
            "2/2 [==============================] - 0s 37ms/step - loss: nan - binary_accuracy: 0.5000 - val_loss: nan - val_binary_accuracy: 0.5000\n",
            "Epoch 260/500\n",
            "2/2 [==============================] - 0s 30ms/step - loss: nan - binary_accuracy: 0.5000 - val_loss: nan - val_binary_accuracy: 0.5000\n",
            "Epoch 261/500\n",
            "2/2 [==============================] - 0s 33ms/step - loss: nan - binary_accuracy: 0.5000 - val_loss: nan - val_binary_accuracy: 0.5000\n",
            "Epoch 262/500\n",
            "2/2 [==============================] - 0s 28ms/step - loss: nan - binary_accuracy: 0.5000 - val_loss: nan - val_binary_accuracy: 0.5000\n",
            "Epoch 263/500\n",
            "2/2 [==============================] - 0s 29ms/step - loss: nan - binary_accuracy: 0.5000 - val_loss: nan - val_binary_accuracy: 0.5000\n",
            "Epoch 264/500\n",
            "2/2 [==============================] - 0s 37ms/step - loss: nan - binary_accuracy: 0.5000 - val_loss: nan - val_binary_accuracy: 0.5000\n",
            "Epoch 265/500\n",
            "2/2 [==============================] - 0s 29ms/step - loss: nan - binary_accuracy: 0.5000 - val_loss: nan - val_binary_accuracy: 0.5000\n",
            "Epoch 266/500\n",
            "2/2 [==============================] - 0s 28ms/step - loss: nan - binary_accuracy: 0.5000 - val_loss: nan - val_binary_accuracy: 0.5000\n",
            "Epoch 267/500\n",
            "2/2 [==============================] - 0s 38ms/step - loss: nan - binary_accuracy: 0.5000 - val_loss: nan - val_binary_accuracy: 0.5000\n",
            "Epoch 268/500\n",
            "2/2 [==============================] - 0s 29ms/step - loss: nan - binary_accuracy: 0.5000 - val_loss: nan - val_binary_accuracy: 0.5000\n",
            "Epoch 269/500\n",
            "2/2 [==============================] - 0s 33ms/step - loss: nan - binary_accuracy: 0.5000 - val_loss: nan - val_binary_accuracy: 0.5000\n",
            "Epoch 270/500\n",
            "2/2 [==============================] - 0s 28ms/step - loss: nan - binary_accuracy: 0.5000 - val_loss: nan - val_binary_accuracy: 0.5000\n",
            "Epoch 271/500\n",
            "2/2 [==============================] - 0s 28ms/step - loss: nan - binary_accuracy: 0.5000 - val_loss: nan - val_binary_accuracy: 0.5000\n",
            "Epoch 272/500\n",
            "2/2 [==============================] - 0s 35ms/step - loss: nan - binary_accuracy: 0.5000 - val_loss: nan - val_binary_accuracy: 0.5000\n",
            "Epoch 273/500\n",
            "2/2 [==============================] - 0s 31ms/step - loss: nan - binary_accuracy: 0.5000 - val_loss: nan - val_binary_accuracy: 0.5000\n",
            "Epoch 274/500\n",
            "2/2 [==============================] - 0s 30ms/step - loss: nan - binary_accuracy: 0.5000 - val_loss: nan - val_binary_accuracy: 0.5000\n",
            "Epoch 275/500\n",
            "2/2 [==============================] - 0s 33ms/step - loss: nan - binary_accuracy: 0.5000 - val_loss: nan - val_binary_accuracy: 0.5000\n",
            "Epoch 276/500\n",
            "2/2 [==============================] - 0s 41ms/step - loss: nan - binary_accuracy: 0.5000 - val_loss: nan - val_binary_accuracy: 0.5000\n",
            "Epoch 277/500\n",
            "2/2 [==============================] - 0s 29ms/step - loss: nan - binary_accuracy: 0.5000 - val_loss: nan - val_binary_accuracy: 0.5000\n",
            "Epoch 278/500\n",
            "2/2 [==============================] - 0s 29ms/step - loss: nan - binary_accuracy: 0.5000 - val_loss: nan - val_binary_accuracy: 0.5000\n",
            "Epoch 279/500\n",
            "2/2 [==============================] - 0s 27ms/step - loss: nan - binary_accuracy: 0.5000 - val_loss: nan - val_binary_accuracy: 0.5000\n",
            "Epoch 280/500\n",
            "2/2 [==============================] - 0s 30ms/step - loss: nan - binary_accuracy: 0.5000 - val_loss: nan - val_binary_accuracy: 0.5000\n",
            "Epoch 281/500\n",
            "2/2 [==============================] - 0s 29ms/step - loss: nan - binary_accuracy: 0.5000 - val_loss: nan - val_binary_accuracy: 0.5000\n",
            "Epoch 282/500\n",
            "2/2 [==============================] - 0s 30ms/step - loss: nan - binary_accuracy: 0.5000 - val_loss: nan - val_binary_accuracy: 0.5000\n",
            "Epoch 283/500\n",
            "2/2 [==============================] - 0s 30ms/step - loss: nan - binary_accuracy: 0.5000 - val_loss: nan - val_binary_accuracy: 0.5000\n",
            "Epoch 284/500\n",
            "2/2 [==============================] - 0s 38ms/step - loss: nan - binary_accuracy: 0.5000 - val_loss: nan - val_binary_accuracy: 0.5000\n",
            "Epoch 285/500\n",
            "2/2 [==============================] - 0s 43ms/step - loss: nan - binary_accuracy: 0.5000 - val_loss: nan - val_binary_accuracy: 0.5000\n",
            "Epoch 286/500\n",
            "2/2 [==============================] - 0s 29ms/step - loss: nan - binary_accuracy: 0.5000 - val_loss: nan - val_binary_accuracy: 0.5000\n",
            "Epoch 287/500\n",
            "2/2 [==============================] - 0s 35ms/step - loss: nan - binary_accuracy: 0.5000 - val_loss: nan - val_binary_accuracy: 0.5000\n",
            "Epoch 288/500\n",
            "2/2 [==============================] - 0s 32ms/step - loss: nan - binary_accuracy: 0.5000 - val_loss: nan - val_binary_accuracy: 0.5000\n",
            "Epoch 289/500\n",
            "2/2 [==============================] - 0s 32ms/step - loss: nan - binary_accuracy: 0.5000 - val_loss: nan - val_binary_accuracy: 0.5000\n",
            "Epoch 290/500\n",
            "2/2 [==============================] - 0s 31ms/step - loss: nan - binary_accuracy: 0.5000 - val_loss: nan - val_binary_accuracy: 0.5000\n",
            "Epoch 291/500\n",
            "2/2 [==============================] - 0s 32ms/step - loss: nan - binary_accuracy: 0.5000 - val_loss: nan - val_binary_accuracy: 0.5000\n",
            "Epoch 292/500\n",
            "2/2 [==============================] - 0s 27ms/step - loss: nan - binary_accuracy: 0.5000 - val_loss: nan - val_binary_accuracy: 0.5000\n",
            "Epoch 293/500\n",
            "2/2 [==============================] - 0s 31ms/step - loss: nan - binary_accuracy: 0.5000 - val_loss: nan - val_binary_accuracy: 0.5000\n",
            "Epoch 294/500\n",
            "2/2 [==============================] - 0s 30ms/step - loss: nan - binary_accuracy: 0.5000 - val_loss: nan - val_binary_accuracy: 0.5000\n",
            "Epoch 295/500\n",
            "2/2 [==============================] - 0s 39ms/step - loss: nan - binary_accuracy: 0.5000 - val_loss: nan - val_binary_accuracy: 0.5000\n",
            "Epoch 296/500\n",
            "2/2 [==============================] - 0s 32ms/step - loss: nan - binary_accuracy: 0.5000 - val_loss: nan - val_binary_accuracy: 0.5000\n",
            "Epoch 297/500\n",
            "2/2 [==============================] - 0s 28ms/step - loss: nan - binary_accuracy: 0.5000 - val_loss: nan - val_binary_accuracy: 0.5000\n",
            "Epoch 298/500\n",
            "2/2 [==============================] - 0s 31ms/step - loss: nan - binary_accuracy: 0.5000 - val_loss: nan - val_binary_accuracy: 0.5000\n",
            "Epoch 299/500\n",
            "2/2 [==============================] - 0s 31ms/step - loss: nan - binary_accuracy: 0.5000 - val_loss: nan - val_binary_accuracy: 0.5000\n",
            "Epoch 300/500\n",
            "2/2 [==============================] - 0s 28ms/step - loss: nan - binary_accuracy: 0.5000 - val_loss: nan - val_binary_accuracy: 0.5000\n",
            "Epoch 301/500\n",
            "2/2 [==============================] - 0s 29ms/step - loss: nan - binary_accuracy: 0.5000 - val_loss: nan - val_binary_accuracy: 0.5000\n",
            "Epoch 302/500\n",
            "2/2 [==============================] - 0s 38ms/step - loss: nan - binary_accuracy: 0.5000 - val_loss: nan - val_binary_accuracy: 0.5000\n",
            "Epoch 303/500\n",
            "2/2 [==============================] - 0s 29ms/step - loss: nan - binary_accuracy: 0.5000 - val_loss: nan - val_binary_accuracy: 0.5000\n",
            "Epoch 304/500\n",
            "2/2 [==============================] - 0s 30ms/step - loss: nan - binary_accuracy: 0.5000 - val_loss: nan - val_binary_accuracy: 0.5000\n",
            "Epoch 305/500\n",
            "2/2 [==============================] - 0s 43ms/step - loss: nan - binary_accuracy: 0.5000 - val_loss: nan - val_binary_accuracy: 0.5000\n",
            "Epoch 306/500\n",
            "2/2 [==============================] - 0s 30ms/step - loss: nan - binary_accuracy: 0.5000 - val_loss: nan - val_binary_accuracy: 0.5000\n",
            "Epoch 307/500\n",
            "2/2 [==============================] - 0s 30ms/step - loss: nan - binary_accuracy: 0.5000 - val_loss: nan - val_binary_accuracy: 0.5000\n",
            "Epoch 308/500\n",
            "2/2 [==============================] - 0s 40ms/step - loss: nan - binary_accuracy: 0.5000 - val_loss: nan - val_binary_accuracy: 0.5000\n",
            "Epoch 309/500\n",
            "2/2 [==============================] - 0s 32ms/step - loss: nan - binary_accuracy: 0.5000 - val_loss: nan - val_binary_accuracy: 0.5000\n",
            "Epoch 310/500\n",
            "2/2 [==============================] - 0s 31ms/step - loss: nan - binary_accuracy: 0.5000 - val_loss: nan - val_binary_accuracy: 0.5000\n",
            "Epoch 311/500\n",
            "2/2 [==============================] - 0s 35ms/step - loss: nan - binary_accuracy: 0.5000 - val_loss: nan - val_binary_accuracy: 0.5000\n",
            "Epoch 312/500\n",
            "2/2 [==============================] - 0s 30ms/step - loss: nan - binary_accuracy: 0.5000 - val_loss: nan - val_binary_accuracy: 0.5000\n",
            "Epoch 313/500\n",
            "2/2 [==============================] - 0s 31ms/step - loss: nan - binary_accuracy: 0.5000 - val_loss: nan - val_binary_accuracy: 0.5000\n",
            "Epoch 314/500\n",
            "2/2 [==============================] - 0s 30ms/step - loss: nan - binary_accuracy: 0.5000 - val_loss: nan - val_binary_accuracy: 0.5000\n",
            "Epoch 315/500\n",
            "2/2 [==============================] - 0s 44ms/step - loss: nan - binary_accuracy: 0.5000 - val_loss: nan - val_binary_accuracy: 0.5000\n",
            "Epoch 316/500\n",
            "2/2 [==============================] - 0s 29ms/step - loss: nan - binary_accuracy: 0.5000 - val_loss: nan - val_binary_accuracy: 0.5000\n",
            "Epoch 317/500\n",
            "2/2 [==============================] - 0s 29ms/step - loss: nan - binary_accuracy: 0.5000 - val_loss: nan - val_binary_accuracy: 0.5000\n",
            "Epoch 318/500\n",
            "2/2 [==============================] - 0s 34ms/step - loss: nan - binary_accuracy: 0.5000 - val_loss: nan - val_binary_accuracy: 0.5000\n",
            "Epoch 319/500\n",
            "2/2 [==============================] - 0s 29ms/step - loss: nan - binary_accuracy: 0.5000 - val_loss: nan - val_binary_accuracy: 0.5000\n",
            "Epoch 320/500\n",
            "2/2 [==============================] - 0s 36ms/step - loss: nan - binary_accuracy: 0.5000 - val_loss: nan - val_binary_accuracy: 0.5000\n",
            "Epoch 321/500\n",
            "2/2 [==============================] - 0s 29ms/step - loss: nan - binary_accuracy: 0.5000 - val_loss: nan - val_binary_accuracy: 0.5000\n",
            "Epoch 322/500\n",
            "2/2 [==============================] - 0s 29ms/step - loss: nan - binary_accuracy: 0.5000 - val_loss: nan - val_binary_accuracy: 0.5000\n",
            "Epoch 323/500\n",
            "2/2 [==============================] - 0s 27ms/step - loss: nan - binary_accuracy: 0.5000 - val_loss: nan - val_binary_accuracy: 0.5000\n",
            "Epoch 324/500\n",
            "2/2 [==============================] - 0s 41ms/step - loss: nan - binary_accuracy: 0.5000 - val_loss: nan - val_binary_accuracy: 0.5000\n",
            "Epoch 325/500\n",
            "2/2 [==============================] - 0s 28ms/step - loss: nan - binary_accuracy: 0.5000 - val_loss: nan - val_binary_accuracy: 0.5000\n",
            "Epoch 326/500\n",
            "2/2 [==============================] - 0s 33ms/step - loss: nan - binary_accuracy: 0.5000 - val_loss: nan - val_binary_accuracy: 0.5000\n",
            "Epoch 327/500\n",
            "2/2 [==============================] - 0s 28ms/step - loss: nan - binary_accuracy: 0.5000 - val_loss: nan - val_binary_accuracy: 0.5000\n",
            "Epoch 328/500\n",
            "2/2 [==============================] - 0s 38ms/step - loss: nan - binary_accuracy: 0.5000 - val_loss: nan - val_binary_accuracy: 0.5000\n",
            "Epoch 329/500\n",
            "2/2 [==============================] - 0s 28ms/step - loss: nan - binary_accuracy: 0.5000 - val_loss: nan - val_binary_accuracy: 0.5000\n",
            "Epoch 330/500\n",
            "2/2 [==============================] - 0s 33ms/step - loss: nan - binary_accuracy: 0.5000 - val_loss: nan - val_binary_accuracy: 0.5000\n",
            "Epoch 331/500\n",
            "2/2 [==============================] - 0s 29ms/step - loss: nan - binary_accuracy: 0.5000 - val_loss: nan - val_binary_accuracy: 0.5000\n",
            "Epoch 332/500\n",
            "2/2 [==============================] - 0s 39ms/step - loss: nan - binary_accuracy: 0.5000 - val_loss: nan - val_binary_accuracy: 0.5000\n",
            "Epoch 333/500\n",
            "2/2 [==============================] - 0s 30ms/step - loss: nan - binary_accuracy: 0.5000 - val_loss: nan - val_binary_accuracy: 0.5000\n",
            "Epoch 334/500\n",
            "2/2 [==============================] - 0s 33ms/step - loss: nan - binary_accuracy: 0.5000 - val_loss: nan - val_binary_accuracy: 0.5000\n",
            "Epoch 335/500\n",
            "2/2 [==============================] - 0s 30ms/step - loss: nan - binary_accuracy: 0.5000 - val_loss: nan - val_binary_accuracy: 0.5000\n",
            "Epoch 336/500\n",
            "2/2 [==============================] - 0s 30ms/step - loss: nan - binary_accuracy: 0.5000 - val_loss: nan - val_binary_accuracy: 0.5000\n",
            "Epoch 337/500\n",
            "2/2 [==============================] - 0s 33ms/step - loss: nan - binary_accuracy: 0.5000 - val_loss: nan - val_binary_accuracy: 0.5000\n",
            "Epoch 338/500\n",
            "2/2 [==============================] - 0s 28ms/step - loss: nan - binary_accuracy: 0.5000 - val_loss: nan - val_binary_accuracy: 0.5000\n",
            "Epoch 339/500\n",
            "2/2 [==============================] - 0s 31ms/step - loss: nan - binary_accuracy: 0.5000 - val_loss: nan - val_binary_accuracy: 0.5000\n",
            "Epoch 340/500\n",
            "2/2 [==============================] - 0s 31ms/step - loss: nan - binary_accuracy: 0.5000 - val_loss: nan - val_binary_accuracy: 0.5000\n",
            "Epoch 341/500\n",
            "2/2 [==============================] - 0s 30ms/step - loss: nan - binary_accuracy: 0.5000 - val_loss: nan - val_binary_accuracy: 0.5000\n",
            "Epoch 342/500\n",
            "2/2 [==============================] - 0s 31ms/step - loss: nan - binary_accuracy: 0.5000 - val_loss: nan - val_binary_accuracy: 0.5000\n",
            "Epoch 343/500\n",
            "2/2 [==============================] - 0s 35ms/step - loss: nan - binary_accuracy: 0.5000 - val_loss: nan - val_binary_accuracy: 0.5000\n",
            "Epoch 344/500\n",
            "2/2 [==============================] - 0s 32ms/step - loss: nan - binary_accuracy: 0.5000 - val_loss: nan - val_binary_accuracy: 0.5000\n",
            "Epoch 345/500\n",
            "2/2 [==============================] - 0s 32ms/step - loss: nan - binary_accuracy: 0.5000 - val_loss: nan - val_binary_accuracy: 0.5000\n",
            "Epoch 346/500\n",
            "2/2 [==============================] - 0s 36ms/step - loss: nan - binary_accuracy: 0.5000 - val_loss: nan - val_binary_accuracy: 0.5000\n",
            "Epoch 347/500\n",
            "2/2 [==============================] - 0s 31ms/step - loss: nan - binary_accuracy: 0.5000 - val_loss: nan - val_binary_accuracy: 0.5000\n",
            "Epoch 348/500\n",
            "2/2 [==============================] - 0s 30ms/step - loss: nan - binary_accuracy: 0.5000 - val_loss: nan - val_binary_accuracy: 0.5000\n",
            "Epoch 349/500\n",
            "2/2 [==============================] - 0s 30ms/step - loss: nan - binary_accuracy: 0.5000 - val_loss: nan - val_binary_accuracy: 0.5000\n",
            "Epoch 350/500\n",
            "2/2 [==============================] - 0s 31ms/step - loss: nan - binary_accuracy: 0.5000 - val_loss: nan - val_binary_accuracy: 0.5000\n",
            "Epoch 351/500\n",
            "2/2 [==============================] - 0s 41ms/step - loss: nan - binary_accuracy: 0.5000 - val_loss: nan - val_binary_accuracy: 0.5000\n",
            "Epoch 352/500\n",
            "2/2 [==============================] - 0s 28ms/step - loss: nan - binary_accuracy: 0.5000 - val_loss: nan - val_binary_accuracy: 0.5000\n",
            "Epoch 353/500\n",
            "2/2 [==============================] - 0s 31ms/step - loss: nan - binary_accuracy: 0.5000 - val_loss: nan - val_binary_accuracy: 0.5000\n",
            "Epoch 354/500\n",
            "2/2 [==============================] - 0s 32ms/step - loss: nan - binary_accuracy: 0.5000 - val_loss: nan - val_binary_accuracy: 0.5000\n",
            "Epoch 355/500\n",
            "2/2 [==============================] - 0s 31ms/step - loss: nan - binary_accuracy: 0.5000 - val_loss: nan - val_binary_accuracy: 0.5000\n",
            "Epoch 356/500\n",
            "2/2 [==============================] - 0s 39ms/step - loss: nan - binary_accuracy: 0.5000 - val_loss: nan - val_binary_accuracy: 0.5000\n",
            "Epoch 357/500\n",
            "2/2 [==============================] - 0s 33ms/step - loss: nan - binary_accuracy: 0.5000 - val_loss: nan - val_binary_accuracy: 0.5000\n",
            "Epoch 358/500\n",
            "2/2 [==============================] - 0s 34ms/step - loss: nan - binary_accuracy: 0.5000 - val_loss: nan - val_binary_accuracy: 0.5000\n",
            "Epoch 359/500\n",
            "2/2 [==============================] - 0s 38ms/step - loss: nan - binary_accuracy: 0.5000 - val_loss: nan - val_binary_accuracy: 0.5000\n",
            "Epoch 360/500\n",
            "2/2 [==============================] - 0s 32ms/step - loss: nan - binary_accuracy: 0.5000 - val_loss: nan - val_binary_accuracy: 0.5000\n",
            "Epoch 361/500\n",
            "2/2 [==============================] - 0s 32ms/step - loss: nan - binary_accuracy: 0.5000 - val_loss: nan - val_binary_accuracy: 0.5000\n",
            "Epoch 362/500\n",
            "2/2 [==============================] - 0s 30ms/step - loss: nan - binary_accuracy: 0.5000 - val_loss: nan - val_binary_accuracy: 0.5000\n",
            "Epoch 363/500\n",
            "2/2 [==============================] - 0s 32ms/step - loss: nan - binary_accuracy: 0.5000 - val_loss: nan - val_binary_accuracy: 0.5000\n",
            "Epoch 364/500\n",
            "2/2 [==============================] - 0s 31ms/step - loss: nan - binary_accuracy: 0.5000 - val_loss: nan - val_binary_accuracy: 0.5000\n",
            "Epoch 365/500\n",
            "2/2 [==============================] - 0s 32ms/step - loss: nan - binary_accuracy: 0.5000 - val_loss: nan - val_binary_accuracy: 0.5000\n",
            "Epoch 366/500\n",
            "2/2 [==============================] - 0s 30ms/step - loss: nan - binary_accuracy: 0.5000 - val_loss: nan - val_binary_accuracy: 0.5000\n",
            "Epoch 367/500\n",
            "2/2 [==============================] - 0s 40ms/step - loss: nan - binary_accuracy: 0.5000 - val_loss: nan - val_binary_accuracy: 0.5000\n",
            "Epoch 368/500\n",
            "2/2 [==============================] - 0s 34ms/step - loss: nan - binary_accuracy: 0.5000 - val_loss: nan - val_binary_accuracy: 0.5000\n",
            "Epoch 369/500\n",
            "2/2 [==============================] - 0s 35ms/step - loss: nan - binary_accuracy: 0.5000 - val_loss: nan - val_binary_accuracy: 0.5000\n",
            "Epoch 370/500\n",
            "2/2 [==============================] - 0s 30ms/step - loss: nan - binary_accuracy: 0.5000 - val_loss: nan - val_binary_accuracy: 0.5000\n",
            "Epoch 371/500\n",
            "2/2 [==============================] - 0s 32ms/step - loss: nan - binary_accuracy: 0.5000 - val_loss: nan - val_binary_accuracy: 0.5000\n",
            "Epoch 372/500\n",
            "2/2 [==============================] - 0s 38ms/step - loss: nan - binary_accuracy: 0.5000 - val_loss: nan - val_binary_accuracy: 0.5000\n",
            "Epoch 373/500\n",
            "2/2 [==============================] - 0s 36ms/step - loss: nan - binary_accuracy: 0.5000 - val_loss: nan - val_binary_accuracy: 0.5000\n",
            "Epoch 374/500\n",
            "2/2 [==============================] - 0s 31ms/step - loss: nan - binary_accuracy: 0.5000 - val_loss: nan - val_binary_accuracy: 0.5000\n",
            "Epoch 375/500\n",
            "2/2 [==============================] - 0s 31ms/step - loss: nan - binary_accuracy: 0.5000 - val_loss: nan - val_binary_accuracy: 0.5000\n",
            "Epoch 376/500\n",
            "2/2 [==============================] - 0s 36ms/step - loss: nan - binary_accuracy: 0.5000 - val_loss: nan - val_binary_accuracy: 0.5000\n",
            "Epoch 377/500\n",
            "2/2 [==============================] - 0s 32ms/step - loss: nan - binary_accuracy: 0.5000 - val_loss: nan - val_binary_accuracy: 0.5000\n",
            "Epoch 378/500\n",
            "2/2 [==============================] - 0s 30ms/step - loss: nan - binary_accuracy: 0.5000 - val_loss: nan - val_binary_accuracy: 0.5000\n",
            "Epoch 379/500\n",
            "2/2 [==============================] - 0s 35ms/step - loss: nan - binary_accuracy: 0.5000 - val_loss: nan - val_binary_accuracy: 0.5000\n",
            "Epoch 380/500\n",
            "2/2 [==============================] - 0s 44ms/step - loss: nan - binary_accuracy: 0.5000 - val_loss: nan - val_binary_accuracy: 0.5000\n",
            "Epoch 381/500\n",
            "2/2 [==============================] - 0s 34ms/step - loss: nan - binary_accuracy: 0.5000 - val_loss: nan - val_binary_accuracy: 0.5000\n",
            "Epoch 382/500\n",
            "2/2 [==============================] - 0s 34ms/step - loss: nan - binary_accuracy: 0.5000 - val_loss: nan - val_binary_accuracy: 0.5000\n",
            "Epoch 383/500\n",
            "2/2 [==============================] - 0s 35ms/step - loss: nan - binary_accuracy: 0.5000 - val_loss: nan - val_binary_accuracy: 0.5000\n",
            "Epoch 384/500\n",
            "2/2 [==============================] - 0s 37ms/step - loss: nan - binary_accuracy: 0.5000 - val_loss: nan - val_binary_accuracy: 0.5000\n",
            "Epoch 385/500\n",
            "2/2 [==============================] - 0s 30ms/step - loss: nan - binary_accuracy: 0.5000 - val_loss: nan - val_binary_accuracy: 0.5000\n",
            "Epoch 386/500\n",
            "2/2 [==============================] - 0s 33ms/step - loss: nan - binary_accuracy: 0.5000 - val_loss: nan - val_binary_accuracy: 0.5000\n",
            "Epoch 387/500\n",
            "2/2 [==============================] - 0s 30ms/step - loss: nan - binary_accuracy: 0.5000 - val_loss: nan - val_binary_accuracy: 0.5000\n",
            "Epoch 388/500\n",
            "2/2 [==============================] - 0s 36ms/step - loss: nan - binary_accuracy: 0.5000 - val_loss: nan - val_binary_accuracy: 0.5000\n",
            "Epoch 389/500\n",
            "2/2 [==============================] - 0s 30ms/step - loss: nan - binary_accuracy: 0.5000 - val_loss: nan - val_binary_accuracy: 0.5000\n",
            "Epoch 390/500\n",
            "2/2 [==============================] - 0s 30ms/step - loss: nan - binary_accuracy: 0.5000 - val_loss: nan - val_binary_accuracy: 0.5000\n",
            "Epoch 391/500\n",
            "2/2 [==============================] - 0s 38ms/step - loss: nan - binary_accuracy: 0.5000 - val_loss: nan - val_binary_accuracy: 0.5000\n",
            "Epoch 392/500\n",
            "2/2 [==============================] - 0s 32ms/step - loss: nan - binary_accuracy: 0.5000 - val_loss: nan - val_binary_accuracy: 0.5000\n",
            "Epoch 393/500\n",
            "2/2 [==============================] - 0s 40ms/step - loss: nan - binary_accuracy: 0.5000 - val_loss: nan - val_binary_accuracy: 0.5000\n",
            "Epoch 394/500\n",
            "2/2 [==============================] - 0s 34ms/step - loss: nan - binary_accuracy: 0.5000 - val_loss: nan - val_binary_accuracy: 0.5000\n",
            "Epoch 395/500\n",
            "2/2 [==============================] - 0s 31ms/step - loss: nan - binary_accuracy: 0.5000 - val_loss: nan - val_binary_accuracy: 0.5000\n",
            "Epoch 396/500\n",
            "2/2 [==============================] - 0s 30ms/step - loss: nan - binary_accuracy: 0.5000 - val_loss: nan - val_binary_accuracy: 0.5000\n",
            "Epoch 397/500\n",
            "2/2 [==============================] - 0s 48ms/step - loss: nan - binary_accuracy: 0.5000 - val_loss: nan - val_binary_accuracy: 0.5000\n",
            "Epoch 398/500\n",
            "2/2 [==============================] - 0s 30ms/step - loss: nan - binary_accuracy: 0.5000 - val_loss: nan - val_binary_accuracy: 0.5000\n",
            "Epoch 399/500\n",
            "2/2 [==============================] - 0s 43ms/step - loss: nan - binary_accuracy: 0.5000 - val_loss: nan - val_binary_accuracy: 0.5000\n",
            "Epoch 400/500\n",
            "2/2 [==============================] - 0s 37ms/step - loss: nan - binary_accuracy: 0.5000 - val_loss: nan - val_binary_accuracy: 0.5000\n",
            "Epoch 401/500\n",
            "2/2 [==============================] - 0s 36ms/step - loss: nan - binary_accuracy: 0.5000 - val_loss: nan - val_binary_accuracy: 0.5000\n",
            "Epoch 402/500\n",
            "2/2 [==============================] - 0s 31ms/step - loss: nan - binary_accuracy: 0.5000 - val_loss: nan - val_binary_accuracy: 0.5000\n",
            "Epoch 403/500\n",
            "2/2 [==============================] - 0s 43ms/step - loss: nan - binary_accuracy: 0.5000 - val_loss: nan - val_binary_accuracy: 0.5000\n",
            "Epoch 404/500\n",
            "2/2 [==============================] - 0s 29ms/step - loss: nan - binary_accuracy: 0.5000 - val_loss: nan - val_binary_accuracy: 0.5000\n",
            "Epoch 405/500\n",
            "2/2 [==============================] - 0s 30ms/step - loss: nan - binary_accuracy: 0.5000 - val_loss: nan - val_binary_accuracy: 0.5000\n",
            "Epoch 406/500\n",
            "2/2 [==============================] - 0s 37ms/step - loss: nan - binary_accuracy: 0.5000 - val_loss: nan - val_binary_accuracy: 0.5000\n",
            "Epoch 407/500\n",
            "2/2 [==============================] - 0s 32ms/step - loss: nan - binary_accuracy: 0.5000 - val_loss: nan - val_binary_accuracy: 0.5000\n",
            "Epoch 408/500\n",
            "2/2 [==============================] - 0s 30ms/step - loss: nan - binary_accuracy: 0.5000 - val_loss: nan - val_binary_accuracy: 0.5000\n",
            "Epoch 409/500\n",
            "2/2 [==============================] - 0s 29ms/step - loss: nan - binary_accuracy: 0.5000 - val_loss: nan - val_binary_accuracy: 0.5000\n",
            "Epoch 410/500\n",
            "2/2 [==============================] - 0s 32ms/step - loss: nan - binary_accuracy: 0.5000 - val_loss: nan - val_binary_accuracy: 0.5000\n",
            "Epoch 411/500\n",
            "2/2 [==============================] - 0s 32ms/step - loss: nan - binary_accuracy: 0.5000 - val_loss: nan - val_binary_accuracy: 0.5000\n",
            "Epoch 412/500\n",
            "2/2 [==============================] - 0s 32ms/step - loss: nan - binary_accuracy: 0.5000 - val_loss: nan - val_binary_accuracy: 0.5000\n",
            "Epoch 413/500\n",
            "2/2 [==============================] - 0s 33ms/step - loss: nan - binary_accuracy: 0.5000 - val_loss: nan - val_binary_accuracy: 0.5000\n",
            "Epoch 414/500\n",
            "2/2 [==============================] - 0s 34ms/step - loss: nan - binary_accuracy: 0.5000 - val_loss: nan - val_binary_accuracy: 0.5000\n",
            "Epoch 415/500\n",
            "2/2 [==============================] - 0s 38ms/step - loss: nan - binary_accuracy: 0.5000 - val_loss: nan - val_binary_accuracy: 0.5000\n",
            "Epoch 416/500\n",
            "2/2 [==============================] - 0s 29ms/step - loss: nan - binary_accuracy: 0.5000 - val_loss: nan - val_binary_accuracy: 0.5000\n",
            "Epoch 417/500\n",
            "2/2 [==============================] - 0s 34ms/step - loss: nan - binary_accuracy: 0.5000 - val_loss: nan - val_binary_accuracy: 0.5000\n",
            "Epoch 418/500\n",
            "2/2 [==============================] - 0s 33ms/step - loss: nan - binary_accuracy: 0.5000 - val_loss: nan - val_binary_accuracy: 0.5000\n",
            "Epoch 419/500\n",
            "2/2 [==============================] - 0s 29ms/step - loss: nan - binary_accuracy: 0.5000 - val_loss: nan - val_binary_accuracy: 0.5000\n",
            "Epoch 420/500\n",
            "2/2 [==============================] - 0s 29ms/step - loss: nan - binary_accuracy: 0.5000 - val_loss: nan - val_binary_accuracy: 0.5000\n",
            "Epoch 421/500\n",
            "2/2 [==============================] - 0s 35ms/step - loss: nan - binary_accuracy: 0.5000 - val_loss: nan - val_binary_accuracy: 0.5000\n",
            "Epoch 422/500\n",
            "2/2 [==============================] - 0s 37ms/step - loss: nan - binary_accuracy: 0.5000 - val_loss: nan - val_binary_accuracy: 0.5000\n",
            "Epoch 423/500\n",
            "2/2 [==============================] - 0s 28ms/step - loss: nan - binary_accuracy: 0.5000 - val_loss: nan - val_binary_accuracy: 0.5000\n",
            "Epoch 424/500\n",
            "2/2 [==============================] - 0s 30ms/step - loss: nan - binary_accuracy: 0.5000 - val_loss: nan - val_binary_accuracy: 0.5000\n",
            "Epoch 425/500\n",
            "2/2 [==============================] - 0s 33ms/step - loss: nan - binary_accuracy: 0.5000 - val_loss: nan - val_binary_accuracy: 0.5000\n",
            "Epoch 426/500\n",
            "2/2 [==============================] - 0s 30ms/step - loss: nan - binary_accuracy: 0.5000 - val_loss: nan - val_binary_accuracy: 0.5000\n",
            "Epoch 427/500\n",
            "2/2 [==============================] - 0s 39ms/step - loss: nan - binary_accuracy: 0.5000 - val_loss: nan - val_binary_accuracy: 0.5000\n",
            "Epoch 428/500\n",
            "2/2 [==============================] - 0s 32ms/step - loss: nan - binary_accuracy: 0.5000 - val_loss: nan - val_binary_accuracy: 0.5000\n",
            "Epoch 429/500\n",
            "2/2 [==============================] - 0s 32ms/step - loss: nan - binary_accuracy: 0.5000 - val_loss: nan - val_binary_accuracy: 0.5000\n",
            "Epoch 430/500\n",
            "2/2 [==============================] - 0s 40ms/step - loss: nan - binary_accuracy: 0.5000 - val_loss: nan - val_binary_accuracy: 0.5000\n",
            "Epoch 431/500\n",
            "2/2 [==============================] - 0s 32ms/step - loss: nan - binary_accuracy: 0.5000 - val_loss: nan - val_binary_accuracy: 0.5000\n",
            "Epoch 432/500\n",
            "2/2 [==============================] - 0s 37ms/step - loss: nan - binary_accuracy: 0.5000 - val_loss: nan - val_binary_accuracy: 0.5000\n",
            "Epoch 433/500\n",
            "2/2 [==============================] - 0s 29ms/step - loss: nan - binary_accuracy: 0.5000 - val_loss: nan - val_binary_accuracy: 0.5000\n",
            "Epoch 434/500\n",
            "2/2 [==============================] - 0s 36ms/step - loss: nan - binary_accuracy: 0.5000 - val_loss: nan - val_binary_accuracy: 0.5000\n",
            "Epoch 435/500\n",
            "2/2 [==============================] - 0s 42ms/step - loss: nan - binary_accuracy: 0.5000 - val_loss: nan - val_binary_accuracy: 0.5000\n",
            "Epoch 436/500\n",
            "2/2 [==============================] - 0s 33ms/step - loss: nan - binary_accuracy: 0.5000 - val_loss: nan - val_binary_accuracy: 0.5000\n",
            "Epoch 437/500\n",
            "2/2 [==============================] - 0s 30ms/step - loss: nan - binary_accuracy: 0.5000 - val_loss: nan - val_binary_accuracy: 0.5000\n",
            "Epoch 438/500\n",
            "2/2 [==============================] - 0s 29ms/step - loss: nan - binary_accuracy: 0.5000 - val_loss: nan - val_binary_accuracy: 0.5000\n",
            "Epoch 439/500\n",
            "2/2 [==============================] - 0s 36ms/step - loss: nan - binary_accuracy: 0.5000 - val_loss: nan - val_binary_accuracy: 0.5000\n",
            "Epoch 440/500\n",
            "2/2 [==============================] - 0s 28ms/step - loss: nan - binary_accuracy: 0.5000 - val_loss: nan - val_binary_accuracy: 0.5000\n",
            "Epoch 441/500\n",
            "2/2 [==============================] - 0s 31ms/step - loss: nan - binary_accuracy: 0.5000 - val_loss: nan - val_binary_accuracy: 0.5000\n",
            "Epoch 442/500\n",
            "2/2 [==============================] - 0s 40ms/step - loss: nan - binary_accuracy: 0.5000 - val_loss: nan - val_binary_accuracy: 0.5000\n",
            "Epoch 443/500\n",
            "2/2 [==============================] - 0s 33ms/step - loss: nan - binary_accuracy: 0.5000 - val_loss: nan - val_binary_accuracy: 0.5000\n",
            "Epoch 444/500\n",
            "2/2 [==============================] - 0s 30ms/step - loss: nan - binary_accuracy: 0.5000 - val_loss: nan - val_binary_accuracy: 0.5000\n",
            "Epoch 445/500\n",
            "2/2 [==============================] - 0s 31ms/step - loss: nan - binary_accuracy: 0.5000 - val_loss: nan - val_binary_accuracy: 0.5000\n",
            "Epoch 446/500\n",
            "2/2 [==============================] - 0s 30ms/step - loss: nan - binary_accuracy: 0.5000 - val_loss: nan - val_binary_accuracy: 0.5000\n",
            "Epoch 447/500\n",
            "2/2 [==============================] - 0s 29ms/step - loss: nan - binary_accuracy: 0.5000 - val_loss: nan - val_binary_accuracy: 0.5000\n",
            "Epoch 448/500\n",
            "2/2 [==============================] - 0s 29ms/step - loss: nan - binary_accuracy: 0.5000 - val_loss: nan - val_binary_accuracy: 0.5000\n",
            "Epoch 449/500\n",
            "2/2 [==============================] - 0s 42ms/step - loss: nan - binary_accuracy: 0.5000 - val_loss: nan - val_binary_accuracy: 0.5000\n",
            "Epoch 450/500\n",
            "2/2 [==============================] - 0s 37ms/step - loss: nan - binary_accuracy: 0.5000 - val_loss: nan - val_binary_accuracy: 0.5000\n",
            "Epoch 451/500\n",
            "2/2 [==============================] - 0s 30ms/step - loss: nan - binary_accuracy: 0.5000 - val_loss: nan - val_binary_accuracy: 0.5000\n",
            "Epoch 452/500\n",
            "2/2 [==============================] - 0s 38ms/step - loss: nan - binary_accuracy: 0.5000 - val_loss: nan - val_binary_accuracy: 0.5000\n",
            "Epoch 453/500\n",
            "2/2 [==============================] - 0s 30ms/step - loss: nan - binary_accuracy: 0.5000 - val_loss: nan - val_binary_accuracy: 0.5000\n",
            "Epoch 454/500\n",
            "2/2 [==============================] - 0s 29ms/step - loss: nan - binary_accuracy: 0.5000 - val_loss: nan - val_binary_accuracy: 0.5000\n",
            "Epoch 455/500\n",
            "2/2 [==============================] - 0s 30ms/step - loss: nan - binary_accuracy: 0.5000 - val_loss: nan - val_binary_accuracy: 0.5000\n",
            "Epoch 456/500\n",
            "2/2 [==============================] - 0s 28ms/step - loss: nan - binary_accuracy: 0.5000 - val_loss: nan - val_binary_accuracy: 0.5000\n",
            "Epoch 457/500\n",
            "2/2 [==============================] - 0s 31ms/step - loss: nan - binary_accuracy: 0.5000 - val_loss: nan - val_binary_accuracy: 0.5000\n",
            "Epoch 458/500\n",
            "2/2 [==============================] - 0s 34ms/step - loss: nan - binary_accuracy: 0.5000 - val_loss: nan - val_binary_accuracy: 0.5000\n",
            "Epoch 459/500\n",
            "2/2 [==============================] - 0s 30ms/step - loss: nan - binary_accuracy: 0.5000 - val_loss: nan - val_binary_accuracy: 0.5000\n",
            "Epoch 460/500\n",
            "2/2 [==============================] - 0s 30ms/step - loss: nan - binary_accuracy: 0.5000 - val_loss: nan - val_binary_accuracy: 0.5000\n",
            "Epoch 461/500\n",
            "2/2 [==============================] - 0s 30ms/step - loss: nan - binary_accuracy: 0.5000 - val_loss: nan - val_binary_accuracy: 0.5000\n",
            "Epoch 462/500\n",
            "2/2 [==============================] - 0s 31ms/step - loss: nan - binary_accuracy: 0.5000 - val_loss: nan - val_binary_accuracy: 0.5000\n",
            "Epoch 463/500\n",
            "2/2 [==============================] - 0s 35ms/step - loss: nan - binary_accuracy: 0.5000 - val_loss: nan - val_binary_accuracy: 0.5000\n",
            "Epoch 464/500\n",
            "2/2 [==============================] - 0s 28ms/step - loss: nan - binary_accuracy: 0.5000 - val_loss: nan - val_binary_accuracy: 0.5000\n",
            "Epoch 465/500\n",
            "2/2 [==============================] - 0s 29ms/step - loss: nan - binary_accuracy: 0.5000 - val_loss: nan - val_binary_accuracy: 0.5000\n",
            "Epoch 466/500\n",
            "2/2 [==============================] - 0s 29ms/step - loss: nan - binary_accuracy: 0.5000 - val_loss: nan - val_binary_accuracy: 0.5000\n",
            "Epoch 467/500\n",
            "2/2 [==============================] - 0s 31ms/step - loss: nan - binary_accuracy: 0.5000 - val_loss: nan - val_binary_accuracy: 0.5000\n",
            "Epoch 468/500\n",
            "2/2 [==============================] - 0s 29ms/step - loss: nan - binary_accuracy: 0.5000 - val_loss: nan - val_binary_accuracy: 0.5000\n",
            "Epoch 469/500\n",
            "2/2 [==============================] - 0s 45ms/step - loss: nan - binary_accuracy: 0.5000 - val_loss: nan - val_binary_accuracy: 0.5000\n",
            "Epoch 470/500\n",
            "2/2 [==============================] - 0s 34ms/step - loss: nan - binary_accuracy: 0.5000 - val_loss: nan - val_binary_accuracy: 0.5000\n",
            "Epoch 471/500\n",
            "2/2 [==============================] - 0s 31ms/step - loss: nan - binary_accuracy: 0.5000 - val_loss: nan - val_binary_accuracy: 0.5000\n",
            "Epoch 472/500\n",
            "2/2 [==============================] - 0s 37ms/step - loss: nan - binary_accuracy: 0.5000 - val_loss: nan - val_binary_accuracy: 0.5000\n",
            "Epoch 473/500\n",
            "2/2 [==============================] - 0s 31ms/step - loss: nan - binary_accuracy: 0.5000 - val_loss: nan - val_binary_accuracy: 0.5000\n",
            "Epoch 474/500\n",
            "2/2 [==============================] - 0s 29ms/step - loss: nan - binary_accuracy: 0.5000 - val_loss: nan - val_binary_accuracy: 0.5000\n",
            "Epoch 475/500\n",
            "2/2 [==============================] - 0s 28ms/step - loss: nan - binary_accuracy: 0.5000 - val_loss: nan - val_binary_accuracy: 0.5000\n",
            "Epoch 476/500\n",
            "2/2 [==============================] - 0s 36ms/step - loss: nan - binary_accuracy: 0.5000 - val_loss: nan - val_binary_accuracy: 0.5000\n",
            "Epoch 477/500\n",
            "2/2 [==============================] - 0s 41ms/step - loss: nan - binary_accuracy: 0.5000 - val_loss: nan - val_binary_accuracy: 0.5000\n",
            "Epoch 478/500\n",
            "2/2 [==============================] - 0s 31ms/step - loss: nan - binary_accuracy: 0.5000 - val_loss: nan - val_binary_accuracy: 0.5000\n",
            "Epoch 479/500\n",
            "2/2 [==============================] - 0s 30ms/step - loss: nan - binary_accuracy: 0.5000 - val_loss: nan - val_binary_accuracy: 0.5000\n",
            "Epoch 480/500\n",
            "2/2 [==============================] - 0s 31ms/step - loss: nan - binary_accuracy: 0.5000 - val_loss: nan - val_binary_accuracy: 0.5000\n",
            "Epoch 481/500\n",
            "2/2 [==============================] - 0s 39ms/step - loss: nan - binary_accuracy: 0.5000 - val_loss: nan - val_binary_accuracy: 0.5000\n",
            "Epoch 482/500\n",
            "2/2 [==============================] - 0s 34ms/step - loss: nan - binary_accuracy: 0.5000 - val_loss: nan - val_binary_accuracy: 0.5000\n",
            "Epoch 483/500\n",
            "2/2 [==============================] - 0s 32ms/step - loss: nan - binary_accuracy: 0.5000 - val_loss: nan - val_binary_accuracy: 0.5000\n",
            "Epoch 484/500\n",
            "2/2 [==============================] - 0s 30ms/step - loss: nan - binary_accuracy: 0.5000 - val_loss: nan - val_binary_accuracy: 0.5000\n",
            "Epoch 485/500\n",
            "2/2 [==============================] - 0s 30ms/step - loss: nan - binary_accuracy: 0.5000 - val_loss: nan - val_binary_accuracy: 0.5000\n",
            "Epoch 486/500\n",
            "2/2 [==============================] - 0s 31ms/step - loss: nan - binary_accuracy: 0.5000 - val_loss: nan - val_binary_accuracy: 0.5000\n",
            "Epoch 487/500\n",
            "2/2 [==============================] - 0s 29ms/step - loss: nan - binary_accuracy: 0.5000 - val_loss: nan - val_binary_accuracy: 0.5000\n",
            "Epoch 488/500\n",
            "2/2 [==============================] - 0s 33ms/step - loss: nan - binary_accuracy: 0.5000 - val_loss: nan - val_binary_accuracy: 0.5000\n",
            "Epoch 489/500\n",
            "2/2 [==============================] - 0s 32ms/step - loss: nan - binary_accuracy: 0.5000 - val_loss: nan - val_binary_accuracy: 0.5000\n",
            "Epoch 490/500\n",
            "2/2 [==============================] - 0s 32ms/step - loss: nan - binary_accuracy: 0.5000 - val_loss: nan - val_binary_accuracy: 0.5000\n",
            "Epoch 491/500\n",
            "2/2 [==============================] - 0s 31ms/step - loss: nan - binary_accuracy: 0.5000 - val_loss: nan - val_binary_accuracy: 0.5000\n",
            "Epoch 492/500\n",
            "2/2 [==============================] - 0s 35ms/step - loss: nan - binary_accuracy: 0.5000 - val_loss: nan - val_binary_accuracy: 0.5000\n",
            "Epoch 493/500\n",
            "2/2 [==============================] - 0s 41ms/step - loss: nan - binary_accuracy: 0.5000 - val_loss: nan - val_binary_accuracy: 0.5000\n",
            "Epoch 494/500\n",
            "2/2 [==============================] - 0s 33ms/step - loss: nan - binary_accuracy: 0.5000 - val_loss: nan - val_binary_accuracy: 0.5000\n",
            "Epoch 495/500\n",
            "2/2 [==============================] - 0s 33ms/step - loss: nan - binary_accuracy: 0.5000 - val_loss: nan - val_binary_accuracy: 0.5000\n",
            "Epoch 496/500\n",
            "2/2 [==============================] - 0s 33ms/step - loss: nan - binary_accuracy: 0.5000 - val_loss: nan - val_binary_accuracy: 0.5000\n",
            "Epoch 497/500\n",
            "2/2 [==============================] - 0s 34ms/step - loss: nan - binary_accuracy: 0.5000 - val_loss: nan - val_binary_accuracy: 0.5000\n",
            "Epoch 498/500\n",
            "2/2 [==============================] - 0s 32ms/step - loss: nan - binary_accuracy: 0.5000 - val_loss: nan - val_binary_accuracy: 0.5000\n",
            "Epoch 499/500\n",
            "2/2 [==============================] - 0s 32ms/step - loss: nan - binary_accuracy: 0.5000 - val_loss: nan - val_binary_accuracy: 0.5000\n",
            "Epoch 500/500\n",
            "2/2 [==============================] - 0s 48ms/step - loss: nan - binary_accuracy: 0.5000 - val_loss: nan - val_binary_accuracy: 0.5000\n"
          ]
        }
      ]
    },
    {
      "cell_type": "code",
      "source": [
        "import matplotlib\n",
        "import matplotlib.pyplot as plt\n",
        "\n",
        "matplotlib.rcParams['figure.dpi'] = 150\n",
        "\n",
        "# Plot acurácia de treino e teste\n",
        "plt.plot(history.history['binary_accuracy'])\n",
        "plt.plot(history.history['val_binary_accuracy'])\n",
        "plt.title('Acurácia do Modelo')\n",
        "plt.ylabel('Acurácia')\n",
        "plt.xlabel('Época')\n",
        "plt.legend(['Treino', 'Teste'], loc='upper left')\n",
        "plt.show()"
      ],
      "metadata": {
        "colab": {
          "base_uri": "https://localhost:8080/",
          "height": 598
        },
        "id": "5evqmlq7P9zv",
        "outputId": "bc9a84a8-b5ad-45fe-a41d-e839a5fd1183"
      },
      "execution_count": null,
      "outputs": [
        {
          "output_type": "display_data",
          "data": {
            "image/png": "[encoded data removed]",
            "text/plain": [
              "<Figure size 900x600 with 1 Axes>"
            ]
          },
          "metadata": {
            "needs_background": "light"
          }
        }
      ]
    },
    {
      "cell_type": "markdown",
      "source": [
        " A rede neural implementada pelo Keras do Tensor Flow foi treinada com amostras igualmente distribuídas (~ 492 inputs com Class = 1, ~ 492 inputs com Class = 0). A acurácia não foi muito satisfatória provavelmente pela baixa quantidade de amostras treinadas ou devido a própria implementação do Keras não ser a melhor opção para fazer uma classificação binária.\n",
        "\n",
        "* Acurácia ~ 50%. "
      ],
      "metadata": {
        "id": "eX3YuuNdw0fM"
      }
    },
    {
      "cell_type": "code",
      "source": [
        ""
      ],
      "metadata": {
        "id": "ulFdj6J-m_lM"
      },
      "execution_count": null,
      "outputs": []
    }
  ]
}